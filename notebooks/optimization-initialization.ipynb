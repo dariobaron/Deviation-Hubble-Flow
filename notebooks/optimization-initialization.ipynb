{
 "cells": [
  {
   "cell_type": "code",
   "execution_count": null,
   "id": "1ab89c6c-f607-43de-9771-6222e764d30f",
   "metadata": {},
   "outputs": [],
   "source": [
    "import os\n",
    "os.chdir(\"..\")"
   ]
  },
  {
   "cell_type": "code",
   "execution_count": null,
   "id": "9c69d926-0416-4b3a-9d38-aaa365814ad3",
   "metadata": {},
   "outputs": [],
   "source": [
    "import pandas as pd\n",
    "import numpy as np\n",
    "import matplotlib.pyplot as plt\n",
    "from scipy.optimize import curve_fit\n",
    "import seaborn as sb\n",
    "import math"
   ]
  },
  {
   "cell_type": "code",
   "execution_count": null,
   "id": "2aa27a7d-1d64-41c8-8c1c-fc318eeb6153",
   "metadata": {},
   "outputs": [],
   "source": [
    "from project.kerneldensityestimation import KernelDensityEstimation as KDE\n",
    "from project.mixturedensity import MixtureDensity as MixDens\n",
    "from project.model import Model\n",
    "from project.dataholder import DataHolder\n",
    "from project.lossfunction import MaximizeLikelihood\n",
    "from project.optimizer import SPSA, SA\n",
    "from project.topographicmap import TopographicMap"
   ]
  },
  {
   "cell_type": "code",
   "execution_count": null,
   "id": "5560723a-0a20-499a-9c63-9569edc77279",
   "metadata": {},
   "outputs": [],
   "source": [
    "datafolder = \"data/\"\n",
    "imagefolder = \"figures/puregaussian/\""
   ]
  },
  {
   "cell_type": "code",
   "execution_count": null,
   "id": "77bce956-63e6-44fe-a471-662cd410ce6f",
   "metadata": {},
   "outputs": [],
   "source": [
    "df = pd.read_csv(datafolder+\"data.tsv\", delimiter=\"\\t\")"
   ]
  },
  {
   "cell_type": "code",
   "execution_count": null,
   "id": "8a63a9c7",
   "metadata": {},
   "outputs": [],
   "source": [
    "n_bins = 2\n",
    "continue_flag = True\n",
    "while continue_flag:\n",
    "\tcounts,_,_ = np.histogram2d(df[\"rproj\"], df[\"vproj\"], bins=n_bins, range=[[0,10],[-3,3]])\n",
    "\tprint(f\"Using {n_bins} bins, with min {counts.min()}\", end=\"\\r\", flush=True)\n",
    "\tif counts.min() < 50:\n",
    "\t\tcontinue_flag = False\n",
    "\t\tn_bins -= 1\n",
    "\t\tcounts,_,_ = np.histogram2d(df[\"rproj\"], df[\"vproj\"], bins=n_bins, range=[[0,10],[-3,3]])\n",
    "\telse:\n",
    "\t\tn_bins += 1\n",
    "print(f\"Using {n_bins} bins, with min {counts.min()}\", flush=True)"
   ]
  },
  {
   "cell_type": "code",
   "execution_count": null,
   "id": "d57b2bb8",
   "metadata": {},
   "outputs": [],
   "source": [
    "vbins = np.linspace(3, -3, n_bins+1)\n",
    "rbins = np.linspace(0, 10, n_bins+1)\n",
    "binwidth = 5\n",
    "r3dbins = np.arange(0, df[\"# r3d\"].max()+binwidth, binwidth)\n",
    "xs = np.linspace(r3dbins.min(), r3dbins.max(), 101)"
   ]
  },
  {
   "cell_type": "code",
   "execution_count": null,
   "id": "09fad1f4",
   "metadata": {},
   "outputs": [],
   "source": [
    "n_kernels = 8\n",
    "tm = TopographicMap(0, 10, -3, 3, n_kernels, n_kernels)"
   ]
  },
  {
   "cell_type": "code",
   "execution_count": null,
   "id": "a3debe2a",
   "metadata": {},
   "outputs": [],
   "source": [
    "initial_phis = []\n",
    "rcentres = 0.5 * (rbins[1:] + rbins[:-1])\n",
    "vcentres = 0.5 * (vbins[1:] + vbins[:-1])\n",
    "for i in range(n_bins):\n",
    "\tfor j in range(n_bins):\n",
    "\t\tinitial_phis.append(tm(rcentres[i], vcentres[j]))\n",
    "initial_phis = np.round(initial_phis, 5).T"
   ]
  },
  {
   "cell_type": "code",
   "execution_count": null,
   "id": "c397e973",
   "metadata": {},
   "outputs": [],
   "source": [
    "model = Model(tm)\n",
    "def pymixture(xs, a1, m1, s1):\n",
    "\tmixture = model.evalOnThetas(np.array([a1, m1, s1]))\n",
    "\treturn mixture(xs)\n",
    "\n",
    "plt.plot(xs, pymixture(xs,1,60,3))"
   ]
  },
  {
   "cell_type": "code",
   "execution_count": null,
   "id": "c87514a0",
   "metadata": {},
   "outputs": [],
   "source": [
    "fig, axs = plt.subplots(n_bins, n_bins, figsize=(n_bins*4,)*2)\n",
    "\n",
    "initial_params = []\n",
    "n_evals_transformed = []\n",
    "for i in range(n_bins):\n",
    "\trmask = np.logical_and(df[\"rproj\"]>=rbins[i], df[\"rproj\"]<=rbins[i+1])\n",
    "\tfor j in range(n_bins):\n",
    "\t\tvmask = np.logical_and(df[\"vproj\"]>=vbins[j+1], df[\"vproj\"]<=vbins[j])\n",
    "\t\tsubset = df.loc[np.logical_and(rmask, vmask)]\n",
    "\t\taxs[j,i].hist(subset[\"# r3d\"], bins=r3dbins, density=True, alpha=0.5, label=\"data\")\n",
    "\t\tvalues = subset[\"# r3d\"].to_numpy()\n",
    "\t\tkde = KDE(values, 5)\n",
    "\t\txs = np.linspace(r3dbins.min(), r3dbins.max(), 1001)\n",
    "\t\taxs[j,i].plot(xs, kde(xs), linewidth=5, label=\"kde\")\n",
    "\t\ttry:\n",
    "\t\t\tparams,_,output_dict,_,_ = curve_fit(pymixture, xs, kde(xs), p0=[1,60,3], bounds=([0,0,-10,],[1,150,10]), full_output=True, maxfev=10000)\n",
    "\t\t\tn_evals_transformed.append(output_dict[\"nfev\"])\n",
    "\t\t\tmixture = model.evalOnThetas(params)\n",
    "\t\t\taxs[j,i].plot(xs, mixture(xs), linestyle=\"--\", linewidth=5, label=\"mixture\")\n",
    "\t\texcept Exception as error:\n",
    "\t\t\tprint(error)\n",
    "\t\t\tparams = [np.nan]*3\n",
    "\t\tinitial_params.append(params)\n",
    "\t\tif j == n_bins - 1:\n",
    "\t\t\taxs[j,i].set_xlabel(r\"$r_\\mathrm{3D}$\")\n",
    "\t\telse:\n",
    "\t\t\taxs[j,i].set_xticks([])\n",
    "\t\tif i == 0:\n",
    "\t\t\taxs[j,i].set_ylabel(r\"$P(r_\\mathrm{3D})$\")\n",
    "\t\telse:\n",
    "\t\t\taxs[j,i].set_yticks([])\n",
    "\t\taxs[j,i].set_ylim([0,0.05])\n",
    "\t\taxs[j,i].legend(title=f\"r={rbins[i:i+2].mean():.1f}, v={vbins[j:j+2].mean():.1f}\")\n",
    "\n",
    "fig.tight_layout()\n",
    "\n",
    "initial_params_transformed = np.array(initial_params).T\n",
    "initial_params_transformed[2,:] = np.abs(initial_params_transformed[2,:])"
   ]
  },
  {
   "cell_type": "code",
   "execution_count": null,
   "id": "7f8e873c-d617-46c9-a38e-b267b63db210",
   "metadata": {},
   "outputs": [],
   "source": [
    "initial_params_transformed"
   ]
  },
  {
   "cell_type": "code",
   "execution_count": null,
   "id": "01739a8d-e1c5-430a-8661-d205cd2c1e44",
   "metadata": {},
   "outputs": [],
   "source": [
    "initial_phis"
   ]
  },
  {
   "cell_type": "code",
   "execution_count": null,
   "id": "54525c38-396e-4625-a2cb-f9b2275a21a9",
   "metadata": {},
   "outputs": [],
   "source": [
    "Winit_transformed = initial_params_transformed @ np.linalg.pinv(initial_phis)\n",
    "Winit_transformed"
   ]
  },
  {
   "cell_type": "code",
   "execution_count": null,
   "id": "ade4609f-06dd-4597-bb76-f4d4566bdbf5",
   "metadata": {},
   "outputs": [],
   "source": [
    "dataholder = DataHolder(df[[\"rproj\",\"vproj\",\"# r3d\"]].to_numpy()[:100000])"
   ]
  },
  {
   "cell_type": "code",
   "execution_count": null,
   "id": "c75952a0-b82e-422a-993c-38a193ca726e",
   "metadata": {},
   "outputs": [],
   "source": [
    "lossfunction = MaximizeLikelihood(dataholder, model)"
   ]
  },
  {
   "cell_type": "code",
   "execution_count": null,
   "id": "fcbb3fb5-1cc1-4f54-a225-df0ac5841f0a",
   "metadata": {},
   "outputs": [],
   "source": [
    "optimizer = SPSA()"
   ]
  },
  {
   "cell_type": "code",
   "execution_count": null,
   "id": "1879b5a6-3dad-4a79-b549-d40d060abade",
   "metadata": {},
   "outputs": [],
   "source": [
    "optimizer.maxIterations"
   ]
  },
  {
   "cell_type": "code",
   "execution_count": null,
   "id": "ced42748-a667-4324-ac3a-06d82df655e8",
   "metadata": {},
   "outputs": [],
   "source": [
    "W_transformed = optimizer.optimize(lossfunction, Winit_transformed)\n",
    "W_transformed"
   ]
  },
  {
   "cell_type": "code",
   "execution_count": null,
   "id": "cbfe3d27-1f96-4c69-8cc5-97313e25d88e",
   "metadata": {},
   "outputs": [],
   "source": [
    "n_bins = 25\n",
    "\n",
    "fig, axs = plt.subplots(n_bins, n_bins, figsize=(n_bins*4,)*2)\n",
    "\n",
    "vbins = np.linspace(3, -3, n_bins+1)\n",
    "rbins = np.linspace(0, 10, n_bins+1)\n",
    "binwidth = 5\n",
    "r3dbins = np.arange(0, df[\"# r3d\"].max()+binwidth, binwidth)\n",
    "\n",
    "for i in range(n_bins):\n",
    "\trmask = np.logical_and(df[\"rproj\"]>=rbins[i], df[\"rproj\"]<=rbins[i+1])\n",
    "\tfor j in range(n_bins):\n",
    "\t\tvmask = np.logical_and(df[\"vproj\"]>=vbins[j+1], df[\"vproj\"]<=vbins[j])\n",
    "\t\tsubset = df.loc[np.logical_and(rmask, vmask)]\n",
    "\t\taxs[j,i].hist(subset[\"# r3d\"], bins=r3dbins, density=True, alpha=0.5, label=\"data\")\n",
    "\t\tvalues = subset[\"# r3d\"].to_numpy()\n",
    "\t\tkde = KDE(values, 3)\n",
    "\t\txs = np.linspace(r3dbins.min(), r3dbins.max(), 101)\n",
    "\t\taxs[j,i].plot(xs, kde(xs), linewidth=3, label=\"KDE\")\n",
    "\t\tmodel.setParameters(W_transformed)\n",
    "\t\ttargetdensity = model.getDensity(0.5*(rbins[i]+rbins[i+1]), 0.5*(vbins[i]+vbins[i+1]))\n",
    "\t\taxs[j,i].plot(xs, targetdensity(xs), linestyle=\"--\", linewidth=3, label=\"after optimization\")\n",
    "\t\tmodel.setParameters(Winit_transformed)\n",
    "\t\tinitdensity = model.getDensity(0.5*(rbins[i]+rbins[i+1]), 0.5*(vbins[i]+vbins[i+1]))\n",
    "\t\taxs[j,i].plot(xs, initdensity(xs), linestyle=\":\", linewidth=5, label=\"with initialization\")\n",
    "\t\tif j == n_bins - 1:\n",
    "\t\t\taxs[j,i].set_xlabel(r\"$r_\\mathrm{3D}$\")\n",
    "\t\telse:\n",
    "\t\t\taxs[j,i].set_xticks([])\n",
    "\t\tif i == 0:\n",
    "\t\t\taxs[j,i].set_ylabel(r\"$P(r_\\mathrm{3D})$\")\n",
    "\t\telse:\n",
    "\t\t\taxs[j,i].set_yticks([])\n",
    "\t\taxs[j,i].set_ylim([0,0.05])\n",
    "\t\taxs[j,i].legend(title=f\"r={rbins[i:i+1].mean():.1f}, v={vbins[j:j+1].mean():.1f}\")\n",
    "\n",
    "fig.tight_layout()\n",
    "fig.savefig(imagefolder+\"optimized-with-init-with-transformed.png\")"
   ]
  },
  {
   "cell_type": "code",
   "execution_count": null,
   "id": "94a6df64",
   "metadata": {},
   "outputs": [],
   "source": []
  }
 ],
 "metadata": {
  "kernelspec": {
   "display_name": "env",
   "language": "python",
   "name": "python3"
  },
  "language_info": {
   "codemirror_mode": {
    "name": "ipython",
    "version": 3
   },
   "file_extension": ".py",
   "mimetype": "text/x-python",
   "name": "python",
   "nbconvert_exporter": "python",
   "pygments_lexer": "ipython3",
   "version": "3.12.3"
  }
 },
 "nbformat": 4,
 "nbformat_minor": 5
}
