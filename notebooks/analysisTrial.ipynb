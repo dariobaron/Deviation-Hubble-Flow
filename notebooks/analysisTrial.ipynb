{
 "cells": [
  {
   "cell_type": "code",
   "execution_count": null,
   "id": "cd1b4eac",
   "metadata": {},
   "outputs": [],
   "source": [
    "import os\n",
    "os.chdir(\"..\")"
   ]
  },
  {
   "cell_type": "code",
   "execution_count": null,
   "id": "21a5d362",
   "metadata": {},
   "outputs": [],
   "source": [
    "import pandas as pd\n",
    "from matplotlib import pyplot as plt\n",
    "import seaborn as sb\n",
    "import numpy as np\n",
    "from numpy.lib import recfunctions\n",
    "from matplotlib.patches import Rectangle\n",
    "import h5py\n",
    "from scipy.optimize import curve_fit\n",
    "from scipy.integrate import quad"
   ]
  },
  {
   "cell_type": "code",
   "execution_count": null,
   "id": "068eb7a4",
   "metadata": {},
   "outputs": [],
   "source": [
    "datafolder = \"data/\"\n",
    "imagefolder = \"figures/\""
   ]
  },
  {
   "cell_type": "code",
   "execution_count": null,
   "id": "2c199a94",
   "metadata": {},
   "outputs": [],
   "source": [
    "pd.read_hdf(datafolder+\"midranged.h5\", key=\"galaxies\", start=5, stop=10)"
   ]
  },
  {
   "cell_type": "code",
   "execution_count": null,
   "id": "71d8d7d3",
   "metadata": {},
   "outputs": [],
   "source": [
    "df = pd.read_hdf(datafolder+\"midranged.h5\", key=\"galaxies\", columns=[\"r3d\",\"rproj\",\"vproj\",\"Vradnorm\",\"hostrow\"])\n",
    "df"
   ]
  },
  {
   "cell_type": "code",
   "execution_count": null,
   "id": "2799c522",
   "metadata": {},
   "outputs": [],
   "source": [
    "df = df.loc[df[\"r3d\"] > 2]\n",
    "df.index = pd.RangeIndex(df.shape[0])\n",
    "df"
   ]
  },
  {
   "cell_type": "code",
   "execution_count": null,
   "id": "b13577f5",
   "metadata": {},
   "outputs": [],
   "source": [
    "def correction(R, A, alpha):\n",
    "\treturn 1/ 10 * R - A * R**alpha"
   ]
  },
  {
   "cell_type": "code",
   "execution_count": null,
   "id": "74880671",
   "metadata": {},
   "outputs": [],
   "source": [
    "result = curve_fit(correction, df[\"r3d\"], df[\"Vradnorm\"], p0=[1, -0.5], bounds=([0,-3],[1,0]))"
   ]
  },
  {
   "cell_type": "code",
   "execution_count": null,
   "id": "7674405c",
   "metadata": {},
   "outputs": [],
   "source": [
    "result"
   ]
  },
  {
   "cell_type": "code",
   "execution_count": null,
   "id": "214362d9",
   "metadata": {},
   "outputs": [],
   "source": [
    "df[\"Vradcorr\"] = correction(df[\"r3d\"], *result[0])\n",
    "df[\"Vcentered\"] = df[\"Vradnorm\"] - df[\"Vradcorr\"]"
   ]
  },
  {
   "cell_type": "code",
   "execution_count": null,
   "id": "eb1a7154",
   "metadata": {},
   "outputs": [],
   "source": [
    "df"
   ]
  },
  {
   "cell_type": "code",
   "execution_count": null,
   "id": "2a3c1f93",
   "metadata": {},
   "outputs": [],
   "source": [
    "fig, ax = plt.subplots(figsize=(10, 5))\n",
    "sb.histplot(data=df, x=\"r3d\", y=\"Vradnorm\", bins=100, ax=ax)\n",
    "xs = np.linspace(2,30, 1000)\n",
    "ax.plot(xs, correction(xs, *result[0]), color=\"red\", label=\"Correction\")\n",
    "ax.plot(xs, 1/10 * xs, color=\"black\", linestyle=\"--\", label=\"Hubble Flow\")\n",
    "ax.legend()"
   ]
  },
  {
   "cell_type": "code",
   "execution_count": null,
   "id": "c1d45bc6",
   "metadata": {},
   "outputs": [],
   "source": [
    "sb.histplot(data=df, x=\"r3d\", y=\"Vcentered\", bins=100)"
   ]
  },
  {
   "cell_type": "code",
   "execution_count": null,
   "id": "de33d45f",
   "metadata": {},
   "outputs": [],
   "source": [
    "def gaussian(x, sigma):\n",
    "\treturn 1 / np.sqrt(2*np.pi*sigma**2) * np.exp(-0.5*(x/sigma)**2)"
   ]
  },
  {
   "cell_type": "code",
   "execution_count": null,
   "id": "3b2893f9",
   "metadata": {},
   "outputs": [],
   "source": [
    "hist, bins = np.histogram(df[\"Vcentered\"], bins=100, density=True)"
   ]
  },
  {
   "cell_type": "code",
   "execution_count": null,
   "id": "f185791a",
   "metadata": {},
   "outputs": [],
   "source": [
    "hist.shape, bins.shape"
   ]
  },
  {
   "cell_type": "code",
   "execution_count": null,
   "id": "62568a45",
   "metadata": {},
   "outputs": [],
   "source": [
    "secondresult = curve_fit(gaussian, (bins[1:]+bins[:-1])/2, hist, p0=[0.6], bounds=(0,1))"
   ]
  },
  {
   "cell_type": "code",
   "execution_count": null,
   "id": "89f768ae",
   "metadata": {},
   "outputs": [],
   "source": [
    "plt.bar(bins[:-1], hist, width=np.diff(bins), align='edge', alpha=0.5, label=\"Data\")\n",
    "xs = np.linspace(bins[0], bins[-1], 1000)\n",
    "plt.plot(xs, gaussian(xs, *secondresult[0]), label=\"Gaussian fit\", color=\"red\")\n",
    "plt.xlabel(\"Vcentered\")\n",
    "plt.ylabel(\"Counts\")\n",
    "plt.legend()"
   ]
  },
  {
   "cell_type": "code",
   "execution_count": null,
   "id": "5c959c4d",
   "metadata": {},
   "outputs": [],
   "source": [
    "result, secondresult"
   ]
  },
  {
   "cell_type": "code",
   "execution_count": null,
   "id": "756b1743",
   "metadata": {},
   "outputs": [],
   "source": [
    "Rhist, Rbins = np.histogram(df[\"r3d\"], bins=100, density=True)"
   ]
  },
  {
   "cell_type": "code",
   "execution_count": null,
   "id": "aa1ac901",
   "metadata": {},
   "outputs": [],
   "source": [
    "H0 = lambda x: 1 / 10\n",
    "PVcorr = lambda x: correction(x, *result[0])\n",
    "PU = lambda x: gaussian(x, *secondresult[0])\n",
    "PR = lambda x: np.interp(x, (Rbins[1:]+Rbins[:-1])/2, Rhist)\n",
    "def unnormalizedPosterior(R, r, v):\n",
    "\tif np.isscalar(R):\n",
    "\t\tif R < r:\n",
    "\t\t\treturn 0\n",
    "\t\telse:\n",
    "\t\t\treturn r/R/np.sqrt(R**2-r**2) * PR(R) * PU(np.abs(v)-(PVcorr(R))*(np.cos(np.arcsin(r/R))))\n",
    "\tvalue = np.zeros_like(R)\n",
    "\tmask = R >= r\n",
    "\tvalue[mask] = r/R[mask]/np.sqrt(R[mask]**2-r**2) * PR(R[mask]) * PU(np.abs(v)-(PVcorr(R[mask]))*(np.cos(np.arcsin(r/R[mask]))))\n",
    "\treturn value\n",
    "def normalizedPosterior(R, r, v):\n",
    "\tif np.isscalar(R):\n",
    "\t\tif R < r:\n",
    "\t\t\treturn 0\n",
    "\t\tunnormalized_value = unnormalizedPosterior(R, r, v)\n",
    "\t\tnormalization = quad(unnormalizedPosterior, r, 30, args=(r, v))[0]\n",
    "\t\tif normalization == 0:\n",
    "\t\t\treturn 0\n",
    "\t\treturn unnormalized_value / normalization\n",
    "\tvalue = unnormalizedPosterior(R, r, v)\n",
    "\tnormalization = quad(unnormalizedPosterior, r, 30, args=(r, v))[0]\n",
    "\tif normalization == 0:\n",
    "\t\treturn 0\n",
    "\treturn value / normalization\n",
    "def firstComponent(R, r, v):\n",
    "\tvalue = np.zeros_like(R)\n",
    "\tmask = R >= r\n",
    "\tvalue[mask] = r/R[mask]/np.sqrt(R[mask]**2-r**2)\n",
    "\treturn value\n",
    "def secondComponent(R, r, v):\n",
    "\tvalue = np.zeros_like(R)\n",
    "\tmask = R >= r\n",
    "\tvalue[mask] = PU(np.abs(v)-(PVcorr(R[mask]))*(np.cos(np.arcsin(r/R[mask]))))\n",
    "\treturn value"
   ]
  },
  {
   "cell_type": "code",
   "execution_count": null,
   "id": "d598ba49",
   "metadata": {},
   "outputs": [],
   "source": [
    "xs = np.linspace(0,20,1001)\n",
    "plt.plot(xs, [secondComponent(x, 1, 0) for x in xs], label=\"1,0\")\n",
    "plt.plot(xs, [secondComponent(x, 1, 1) for x in xs], label=\"1,1\")\n",
    "plt.plot(xs, [secondComponent(x, 1, 2) for x in xs], label=\"1,2\")\n",
    "plt.plot(xs, [secondComponent(x, 1, 3) for x in xs], label=\"1,3\")\n",
    "plt.plot(xs, [secondComponent(x, 5, 1) for x in xs], label=\"5,1\")\n",
    "plt.plot(xs, [secondComponent(x, 5, 2) for x in xs], label=\"5,2\")\n",
    "plt.plot(xs, [secondComponent(x, 5, 3) for x in xs], label=\"5,3\")\n",
    "plt.legend()"
   ]
  },
  {
   "cell_type": "code",
   "execution_count": null,
   "id": "3e2ac3dc",
   "metadata": {},
   "outputs": [],
   "source": [
    "plt.hist(df[\"r3d\"], bins=100, density=True, alpha=0.5, label=\"Data\")\n",
    "xs = np.linspace(df[\"r3d\"].min(), df[\"r3d\"].max(), 1000)\n",
    "plt.plot(xs, PR(xs), label=\"R prior\", color=\"red\")\n",
    "plt.xlabel(\"R\")\n",
    "plt.ylabel(\"Counts\")\n",
    "plt.legend()"
   ]
  },
  {
   "cell_type": "code",
   "execution_count": null,
   "id": "6be44907",
   "metadata": {},
   "outputs": [],
   "source": [
    "ntrials = 15\n",
    "elected = np.random.choice(df.index, ntrials, replace=False)"
   ]
  },
  {
   "cell_type": "code",
   "execution_count": null,
   "id": "f512d7da",
   "metadata": {},
   "outputs": [],
   "source": [
    "fig, axs = plt.subplots(ntrials, 1, figsize=(10, 2*ntrials), sharex=True)\n",
    "for i, idx in enumerate(elected):\n",
    "\tr = df[\"rproj\"].loc[idx]\n",
    "\tv = df[\"vproj\"].loc[idx]\n",
    "\tRtrue = df[\"r3d\"].loc[idx]\n",
    "\tR = np.linspace(0, 30, 1000)\n",
    "\tposterior = [unnormalizedPosterior(R3d, r, v) for R3d in R]\n",
    "\t\n",
    "\taxs[i].plot(R, posterior, label=f\"r={r:.2f}, v={v:.2f}\")\n",
    "\taxs[i].axvline(Rtrue, color=\"red\", linestyle=\"--\", label=f\"Rtrue={Rtrue:.2f}\")\n",
    "\taxs[i].set_xlabel(\"R\")\n",
    "\taxs[i].set_ylabel(\"Posterior\")\n",
    "\taxs[i].legend()\n",
    "fig.tight_layout()\n",
    "fig.savefig(imagefolder + f\"posterior.png\", dpi=300)"
   ]
  },
  {
   "cell_type": "code",
   "execution_count": null,
   "id": "15177895",
   "metadata": {},
   "outputs": [],
   "source": [
    "fig, axs = plt.subplots(ntrials, 2, figsize=(10, 2*ntrials), sharex=True)\n",
    "for i, idx in enumerate(elected):\n",
    "\tr = df[\"rproj\"].loc[idx]\n",
    "\tv = df[\"vproj\"].loc[idx]\n",
    "\tRtrue = df[\"r3d\"].loc[idx]\n",
    "\tR = np.linspace(0, 30, 1000)\n",
    "\tposterior1 = [firstComponent(R3d, r, v) for R3d in R]\n",
    "\tposterior2 = [secondComponent(R3d, r, v) for R3d in R]\n",
    "\t\n",
    "\taxs[i,0].plot(R, posterior1, label=f\"r={r:.2f}, v={v:.2f}\")\n",
    "\taxs[i,1].plot(R, posterior2, label=f\"r={r:.2f}, v={v:.2f}\")\n",
    "\taxs[i,0].axvline(Rtrue, color=\"red\", linestyle=\"--\", label=f\"Rtrue={Rtrue:.2f}\")\n",
    "\taxs[i,1].axvline(Rtrue, color=\"red\", linestyle=\"--\", label=f\"Rtrue={Rtrue:.2f}\")\n",
    "\taxs[i,0].set_xlabel(\"R\")\n",
    "\taxs[i,0].set_ylabel(\"Posterior\")\n",
    "\taxs[i,0].legend()\n",
    "axs[0,0].set_title(\"Radial contribution\")\n",
    "axs[0,1].set_title(\"Velocity contribution\")\n",
    "fig.tight_layout()\n",
    "fig.savefig(imagefolder + f\"posterior_components.png\", dpi=300)"
   ]
  },
  {
   "cell_type": "code",
   "execution_count": null,
   "id": "65a7aa5b",
   "metadata": {},
   "outputs": [],
   "source": [
    "rbins = 15\n",
    "vbins = 15\n",
    "df[\"rproj_bin\"] = pd.cut(df[\"rproj\"], bins=rbins, labels=False)\n",
    "df[\"vproj_bin\"] = pd.cut(df[\"vproj\"], bins=vbins, labels=False)"
   ]
  },
  {
   "cell_type": "code",
   "execution_count": null,
   "id": "441b0d45",
   "metadata": {},
   "outputs": [],
   "source": [
    "df"
   ]
  },
  {
   "cell_type": "code",
   "execution_count": null,
   "id": "11b56499",
   "metadata": {},
   "outputs": [],
   "source": [
    "df[\"rproj_bin\"].unique()"
   ]
  },
  {
   "cell_type": "code",
   "execution_count": null,
   "id": "cd6ef823-65a9-490b-ab46-02d58dbba3a0",
   "metadata": {},
   "outputs": [],
   "source": [
    "df_test = df.sample(frac=0.001)"
   ]
  },
  {
   "cell_type": "code",
   "execution_count": null,
   "id": "075bd0a8",
   "metadata": {},
   "outputs": [],
   "source": [
    "fig, axs = plt.subplots(rbins, vbins, figsize=(3*rbins, 3*vbins))\n",
    "\n",
    "for (rbin, vbin), group in df_test.groupby([\"rproj_bin\", \"vproj_bin\"]):\n",
    "\tax = axs[rbin, vbin]\n",
    "\tax.legend(title=f\"rproj bin {rbin}, vproj bin {vbin}\")\n",
    "\t\n",
    "\tif group.shape[0] == 0:\n",
    "\t\tcontinue\n",
    "\t\n",
    "\tRs = np.linspace(0, 30, 1000)\n",
    "\t\n",
    "\tposteriors = np.array([normalizedPosterior(Rs, r, v) for r,v in group[[\"rproj\", \"vproj\"]].values])\n",
    "\tposterior = posteriors.mean(axis=0)\n",
    "\n",
    "\tax.plot(Rs, posterior, label=\"Posterior\")\n",
    "\tax.hist(group[\"r3d\"], bins=50, density=True, alpha=0.5, label=\"Data\", color=\"gray\")\n",
    "\t\n",
    "fig.tight_layout()\n",
    "fig.savefig(imagefolder + f\"fullcheck.png\")\n",
    "fig.savefig(imagefolder + f\"fullcheck.pdf\")"
   ]
  },
  {
   "cell_type": "code",
   "execution_count": null,
   "id": "2847fa90",
   "metadata": {},
   "outputs": [],
   "source": []
  }
 ],
 "metadata": {
  "kernelspec": {
   "display_name": "env",
   "language": "python",
   "name": "python3"
  },
  "language_info": {
   "codemirror_mode": {
    "name": "ipython",
    "version": 3
   },
   "file_extension": ".py",
   "mimetype": "text/x-python",
   "name": "python",
   "nbconvert_exporter": "python",
   "pygments_lexer": "ipython3",
   "version": "3.12.3"
  }
 },
 "nbformat": 4,
 "nbformat_minor": 5
}
