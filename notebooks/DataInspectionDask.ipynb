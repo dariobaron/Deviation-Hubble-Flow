{
 "cells": [
  {
   "cell_type": "code",
   "execution_count": null,
   "id": "7b70b13b-d67b-47d4-9e10-bb898dd2bc6d",
   "metadata": {},
   "outputs": [],
   "source": [
    "import os\n",
    "os.chdir(\"..\")"
   ]
  },
  {
   "cell_type": "code",
   "execution_count": null,
   "id": "84b21fb9",
   "metadata": {},
   "outputs": [],
   "source": [
    "import dask.dataframe as dd\n",
    "import dask.array as da\n",
    "from matplotlib import pyplot as plt\n"
   ]
  },
  {
   "cell_type": "code",
   "execution_count": null,
   "id": "a97c8444",
   "metadata": {},
   "outputs": [],
   "source": [
    "df = dd.read_hdf(\"data/allhosts4.h5\", key=\"alldata\", chunksize=100000)"
   ]
  },
  {
   "cell_type": "code",
   "execution_count": null,
   "id": "454f087a",
   "metadata": {},
   "outputs": [],
   "source": [
    "def getRmin(df):\n",
    "\tmask = np.logical_and(df[\"rproj\"]<10, np.abs(df[\"vproj\"])<3)\n",
    "\tsliced = df.loc[mask]\n",
    "\treturn sliced[\"r3d\"].max()\n"
   ]
  },
  {
   "cell_type": "code",
   "execution_count": null,
   "id": "dcb8305a",
   "metadata": {},
   "outputs": [],
   "source": [
    "result = df.map_partitions(getRmin).compute()"
   ]
  },
  {
   "cell_type": "code",
   "execution_count": null,
   "id": "720db247",
   "metadata": {},
   "outputs": [],
   "source": [
    "plt.scatter(np.arange(len(result)), result)"
   ]
  },
  {
   "cell_type": "code",
   "execution_count": null,
   "id": "83188ceb",
   "metadata": {},
   "outputs": [],
   "source": [
    "mask = da.logical_and(\n",
    "\tdf[\"rproj\"] < 10,\n",
    "\tda.abs(df[\"vproj\"]) < 3\n",
    ")\n",
    "within_window = df.loc[mask]\n",
    "Rmin = within_window[\"r3d\"].min()"
   ]
  },
  {
   "cell_type": "code",
   "execution_count": null,
   "id": "2226105a-b164-44f3-bdeb-d067f72d1782",
   "metadata": {},
   "outputs": [],
   "source": [
    "Rmin.compute()"
   ]
  },
  {
   "cell_type": "code",
   "execution_count": null,
   "id": "1eee1da9",
   "metadata": {},
   "outputs": [],
   "source": [
    "Rmin.visualize(filename=\"tmp.png\")"
   ]
  },
  {
   "cell_type": "code",
   "execution_count": null,
   "id": "ca6952e4",
   "metadata": {},
   "outputs": [],
   "source": [
    "relevant = df[[\"r3d\",\"rproj\",\"vproj\",\"Vradnorm\",\"spin\",\"galrow\",\"hostrow\"]]\n",
    "midranged = relevant.loc[relevant[\"r3d\"] < 30]"
   ]
  },
  {
   "cell_type": "code",
   "execution_count": null,
   "id": "35782159",
   "metadata": {},
   "outputs": [],
   "source": [
    "midranged.to_hdf(\"data/midranged.h5\", key=\"galaxies\", mode=\"w\")"
   ]
  },
  {
   "cell_type": "code",
   "execution_count": null,
   "id": "a028dfb6",
   "metadata": {},
   "outputs": [],
   "source": [
    "import h5py\n",
    "import pandas as pd"
   ]
  },
  {
   "cell_type": "code",
   "execution_count": null,
   "id": "7a8d2608",
   "metadata": {},
   "outputs": [],
   "source": [
    "df = pd.read_hdf(\"data/midranged.h5\", key=\"galaxies\")"
   ]
  },
  {
   "cell_type": "code",
   "execution_count": null,
   "id": "119b4303",
   "metadata": {},
   "outputs": [],
   "source": [
    "df"
   ]
  },
  {
   "cell_type": "code",
   "execution_count": null,
   "id": "8ee9e1a3-ad90-4110-96ba-4e8dd4fa6042",
   "metadata": {},
   "outputs": [],
   "source": [
    "import pandas as pd\n",
    "from matplotlib import pyplot as plt\n",
    "import seaborn as sb\n",
    "import numpy as np\n",
    "from numpy.lib import recfunctions\n",
    "from matplotlib.patches import Rectangle\n",
    "import h5py"
   ]
  },
  {
   "cell_type": "code",
   "execution_count": null,
   "id": "8f16aa4d-c137-4882-a10f-060903b0348e",
   "metadata": {},
   "outputs": [],
   "source": [
    "datafolder = \"data/\"\n",
    "imagefolder = \"figures/\""
   ]
  },
  {
   "cell_type": "code",
   "execution_count": null,
   "id": "3dd3de85",
   "metadata": {},
   "outputs": [],
   "source": [
    "with open(datafolder+\"allhosts4.dat\") as infile:\n",
    "\ttot_lines = sum([1 for line in infile if line.split()[0] != \"#\"])\n",
    "with open(datafolder+\"allhosts4.dat\") as infile:\n",
    "\tfor line in infile:\n",
    "\t\tnames = line.split()\n",
    "\t\tif names[0] == \"#\":\n",
    "\t\t\tnames = names[1:]\n",
    "\t\tbreak\n",
    "\tthedtype = np.dtype([(name, \"f8\") for name in names])"
   ]
  },
  {
   "cell_type": "code",
   "execution_count": null,
   "id": "e3de7019",
   "metadata": {},
   "outputs": [],
   "source": [
    "tot_lines"
   ]
  },
  {
   "cell_type": "code",
   "execution_count": null,
   "id": "d6a45de3",
   "metadata": {},
   "outputs": [],
   "source": [
    "thedtype"
   ]
  },
  {
   "cell_type": "code",
   "execution_count": null,
   "id": "e25e9158",
   "metadata": {},
   "outputs": [],
   "source": [
    "with open(datafolder+\"allhosts4.dat\") as infile:\n",
    "\tfor line in infile:\n",
    "\t\tprint(line.split()[0])\n",
    "\t\tprint(line)\n",
    "\t\tbreak"
   ]
  },
  {
   "cell_type": "code",
   "execution_count": null,
   "id": "43c519de",
   "metadata": {},
   "outputs": [],
   "source": [
    "with open(datafolder+\"allhosts4.dat\") as infile:\n",
    "\twith h5py.File(datafolder+\"newallhost4.h5\", \"a\") as outfile:\n",
    "\t\tif \"alldata\" in outfile:\n",
    "\t\t\tdel outfile[\"alldata\"]\n",
    "\t\tchunksize = 5000\n",
    "\t\tdataset = outfile.create_dataset(\"alldata\", shape=(tot_lines,), dtype=thedtype, chunks=(chunksize,), compression=\"gzip\", compression_opts=9)\n",
    "\t\tvalues = []\n",
    "\t\tidx = 0\n",
    "\t\tfor i,line in enumerate(infile):\n",
    "\t\t\tif line.split()[0] == \"#\":\n",
    "\t\t\t\tcontinue\n",
    "\t\t\tvalues.append(tuple([float(val) for val in line.split()]))\n",
    "\t\t\tif len(values) == chunksize:\n",
    "\t\t\t\tvalues = np.array(values, dtype=thedtype)\n",
    "\t\t\t\tdataset[idx:idx+values.shape[0]] = values\n",
    "\t\t\t\tidx += chunksize\n",
    "\t\t\t\tvalues = []\n",
    "\t\t\tif i % 10000 == 0:\n",
    "\t\t\t\tprint(f\"{i*100/tot_lines:.2f}%\", end=\"\\r\", flush=True)\n",
    "\t\tif len(values) > 0:\n",
    "\t\t\tvalues = np.array(values, dtype=thedtype)\n",
    "\t\t\tdataset[idx:] = values\n",
    "\t\t\tidx += values.shape[0]"
   ]
  },
  {
   "cell_type": "code",
   "execution_count": null,
   "id": "477f9112",
   "metadata": {},
   "outputs": [],
   "source": [
    "binswidth = 1\n",
    "bins = np.arange(0, df[\"r3d\"].max()+binswidth+1e-6, binswidth)\n",
    "df[\"R3Dbins\"] = pd.cut(df[\"r3d\"], bins=bins, labels=(bins[1:]+bins[:-1])/2)\n",
    "df[\"vradcorr\"] = df[\"Vradnorm\"] - 1/10*df[\"r3d\"] + df[\"r3d\"]**(-0.5)"
   ]
  },
  {
   "cell_type": "code",
   "execution_count": null,
   "id": "f2e027db",
   "metadata": {},
   "outputs": [],
   "source": [
    "df"
   ]
  },
  {
   "cell_type": "markdown",
   "id": "7fcc74e4",
   "metadata": {},
   "source": [
    "### Check spins are all equally represented"
   ]
  },
  {
   "cell_type": "code",
   "execution_count": null,
   "id": "93cf1ac1-192e-4ad8-9068-ee85e2305870",
   "metadata": {},
   "outputs": [],
   "source": [
    "fig, ax = plt.subplots()\n",
    "ax.hist(df[\"spin\"], bins=np.arange(0.5,51), color=\"black\", edgecolor=\"white\")\n",
    "ax.set_title(\"Point of View\")\n",
    "ax.set_ylabel(\"Counts\")\n",
    "ax.set_xlabel(\"Direction\")\n",
    "ax.set_xlim([0,51])\n",
    "fig.tight_layout()\n",
    "fig.savefig(imagefolder+\"spins.png\")"
   ]
  },
  {
   "cell_type": "markdown",
   "id": "dc064b4e",
   "metadata": {},
   "source": [
    "### Check mass distribution"
   ]
  },
  {
   "cell_type": "code",
   "execution_count": null,
   "id": "030fee23",
   "metadata": {},
   "outputs": [],
   "source": [
    "values,counts = np.unique(masses, return_counts=True)\n",
    "print(f\"There are {len(values)} clusters\")\n",
    "plt.scatter(values, counts)\n",
    "plt.xlabel(\"Cluster mass\")\n",
    "plt.ylabel(\"Counts\")"
   ]
  },
  {
   "cell_type": "markdown",
   "id": "28abecb0",
   "metadata": {},
   "source": [
    "### Check distributions of input data"
   ]
  },
  {
   "cell_type": "code",
   "execution_count": null,
   "id": "4b830c51-6f79-42de-9686-001e88760a40",
   "metadata": {},
   "outputs": [],
   "source": [
    "fig, axs = plt.subplots(1, 3, figsize=(12, 4))\n",
    "sb.histplot(data=df, x=\"rproj\", y=\"vproj\", bins=100, ax=axs[0])\n",
    "sb.histplot(data=df, x=\"r3d\", y=\"vproj\", bins=100, ax=axs[1])\n",
    "sb.histplot(data=df, x=\"rproj\", y=\"r3d\", bins=100, ax=axs[2])\n",
    "fig.tight_layout()\n",
    "fig.savefig(imagefolder+\"2d_distributions.png\")"
   ]
  },
  {
   "cell_type": "code",
   "execution_count": null,
   "id": "da8470f7-b56c-4de6-8b7d-260773f55601",
   "metadata": {},
   "outputs": [],
   "source": [
    "fig, axs = plt.subplots(1, 3, figsize=(12,4))\n",
    "\n",
    "df[\"rproj\"].hist(bins=50, density=True, alpha=0.7, ax=axs[0])\n",
    "df[\"vproj\"].hist(bins=50, density=True, alpha=0.7, ax=axs[1])\n",
    "df[\"r3d\"].hist(bins=50, density=True, alpha=0.7, ax=axs[2])\n",
    "\n",
    "#all_colours = [\"Blue\",\"Red\",\"Green\",\"Orange\",\"Purple\",\"Cyan\"]\n",
    "#axs[0].add_patch(Rectangle((0.5,-0.01), 1, 0.32, facecolor=\"none\", edgecolor=all_colours[0]))\n",
    "#axs[0].add_patch(Rectangle((3,-0.01), 1, 0.32, facecolor=\"none\", edgecolor=all_colours[1]))\n",
    "#axs[0].add_patch(Rectangle((7.5,-0.01), 1, 0.32, facecolor=\"none\", edgecolor=all_colours[2]))\n",
    "#axs[1].add_patch(Rectangle((-2.5,-0.01), 1, 0.32, facecolor=\"none\", edgecolor=all_colours[3]))\n",
    "#axs[1].add_patch(Rectangle((1.5,-0.01), 1, 0.32, facecolor=\"none\", edgecolor=all_colours[4]))\n",
    "#axs[1].add_patch(Rectangle((-0.5,-0.01), 1, 0.32, facecolor=\"none\", edgecolor=all_colours[5]))\n",
    "\n",
    "#axs[0].plot([0,10],[0.02,0.18], linestyle=\"--\", color=\"k\")\n",
    "\n",
    "fig.suptitle(\"Marginal distributions conditioning variables\")\n",
    "axs[0].set_xlabel(r\"$r_\\mathrm{proj}$\")\n",
    "axs[1].set_xlabel(r\"$v_\\mathrm{proj}$\")\n",
    "axs[2].set_xlabel(r\"$R_\\mathrm{3D}$\")\n",
    "axs[0].set_ylabel(r\"$P(r_\\mathrm{proj})$\")\n",
    "axs[1].set_ylabel(r\"$P(v_\\mathrm{proj})$\")\n",
    "axs[2].set_ylabel(r\"$P(R_\\mathrm{3D})$\")\n",
    "for ax in axs:\n",
    "\tax.set_ylim(bottom=0)\n",
    "\tax.grid(False)\n",
    "#axs[0].set_xlim([0,10])\n",
    "#axs[1].set_xlim([-3,3])\n",
    "axs[2].set_xlim(left=0)\n",
    "fig.tight_layout()\n",
    "fig.savefig(imagefolder+\"marginals.png\")"
   ]
  },
  {
   "cell_type": "markdown",
   "id": "1c0674bd",
   "metadata": {},
   "source": [
    "### Checking Hubble Flow deviation"
   ]
  },
  {
   "cell_type": "code",
   "execution_count": null,
   "id": "f1d1a087",
   "metadata": {},
   "outputs": [],
   "source": [
    "fig, ax = plt.subplots()\n",
    "sb.histplot(data=df, x=\"r3d\", y=\"Vradnorm\", bins=100, label=\"data\", ax=ax)\n",
    "xs = np.linspace(0, 30, 101)\n",
    "ax.plot(xs, 1/10*xs, color=\"k\", linestyle=\"--\", label=\"Hubble flow\")\n",
    "ax.axvline(2, color=\"red\", linestyle=\":\", label=\"2 Mpc\")\n",
    "ax.legend()\n",
    "fig.tight_layout()\n",
    "fig.savefig(imagefolder+\"hubble_flow.png\")"
   ]
  },
  {
   "cell_type": "code",
   "execution_count": null,
   "id": "9d05ff56",
   "metadata": {},
   "outputs": [],
   "source": [
    "fig, ax = plt.subplots(figsize=(4,8))\n",
    "sb.violinplot(data=df, x=\"vradcorr\", y=\"R3Dbins\", orient=\"h\", split=True, cut=0, density_norm=\"area\", fill=False, palette=\"dark:#5A9_r\", inner=\"quart\", saturation=0.4, ax=ax)\n",
    "ax.axvline(0, color=\"darkred\", linestyle=\"--\")\n",
    "ax.set_xlabel(\"Radial velocity correction\")\n",
    "ax.set_ylabel(\"3D distance\")\n",
    "fig.tight_layout()\n",
    "fig.savefig(imagefolder+\"radialvelocitycorrection.png\")"
   ]
  },
  {
   "cell_type": "markdown",
   "id": "74634054",
   "metadata": {},
   "source": [
    "### Checking output distribution"
   ]
  },
  {
   "cell_type": "code",
   "execution_count": null,
   "id": "8681dd94",
   "metadata": {},
   "outputs": [],
   "source": [
    "n_bins = 2\n",
    "continue_flag = True\n",
    "while continue_flag:\n",
    "    counts,_,_ = np.histogram2d(df[\"rproj\"], df[\"vproj\"], bins=n_bins, range=[[0,10],[-3,3]])\n",
    "    print(f\"Using {n_bins} bins, with min {counts.min()}\", end=\"\\r\", flush=True)\n",
    "    if counts.min() < 200:\n",
    "        continue_flag = False\n",
    "        n_bins -= 1\n",
    "    else:\n",
    "        n_bins += 1\n",
    "print(f\"Using {n_bins} bins, with min {counts.min()}\")"
   ]
  },
  {
   "cell_type": "code",
   "execution_count": null,
   "id": "906dd8cd-dd2f-48da-a585-9925fb93bf1b",
   "metadata": {},
   "outputs": [],
   "source": [
    "fig, axs = plt.subplots(n_bins, n_bins, figsize=(n_bins*4,)*2)\n",
    "\n",
    "vbins = np.linspace(3, -3, n_bins+1)\n",
    "rbins = np.linspace(0, 10, n_bins+1)\n",
    "binwidth = 1\n",
    "r3dbins = np.arange(0, df[\"# r3d\"].max()+binwidth, binwidth)\n",
    "\n",
    "for i in range(n_bins):\n",
    "\trmask = np.logical_and(df[\"rproj\"]>=rbins[i], df[\"rproj\"]<=rbins[i+1])\n",
    "\tfor j in range(n_bins):\n",
    "\t\tvmask = np.logical_and(df[\"vproj\"]>=vbins[j+1], df[\"vproj\"]<=vbins[j])\n",
    "\t\tsubset = df.loc[np.logical_and(rmask, vmask)]\n",
    "\t\taxs[j,i].hist(subset[\"# r3d\"], bins=r3dbins, density=True)\n",
    "\t\tif j == n_bins - 1:\n",
    "\t\t\taxs[j,i].set_xlabel(r\"$r_\\mathrm{3D}$\")\n",
    "\t\telse:\n",
    "\t\t\taxs[j,i].set_xticks([])\n",
    "\t\tif i == 0:\n",
    "\t\t\taxs[j,i].set_ylabel(r\"$P(r_\\mathrm{3D})$\")\n",
    "\t\telse:\n",
    "\t\t\taxs[j,i].set_yticks([])\n",
    "\t\taxs[j,i].set_ylim([0,0.2])\n",
    "\t\taxs[j,i].set_xlim(left=0)\n",
    "\t\taxs[j,i].legend(title=f\"r={rbins[i:i+1].mean():.1f}, v={vbins[j:j+1].mean():.1f}\")\n",
    "\t\tprint(f\"{int(100*(i*n_bins+j)/n_bins**2)}%\", flush=True, end=\"\\r\")\n",
    "\n",
    "fig.tight_layout()\n",
    "fig.savefig(imagefolder+\"histograms.png\")\n",
    "plt.close()"
   ]
  },
  {
   "cell_type": "code",
   "execution_count": null,
   "id": "3373e134",
   "metadata": {},
   "outputs": [],
   "source": [
    "r3dbins"
   ]
  },
  {
   "cell_type": "code",
   "execution_count": null,
   "id": "bfd59a64",
   "metadata": {},
   "outputs": [],
   "source": [
    "fig, axs = plt.subplots(n_bins, n_bins, figsize=(n_bins*4,)*2)\n",
    "\n",
    "vbins = np.linspace(3, -3, n_bins+1)\n",
    "rbins = np.linspace(0, 10, n_bins+1)\n",
    "r3drange = 5\n",
    "r3dbins = np.linspace(0, r3drange, 51)\n",
    "\n",
    "df_slice = df.loc[df[\"# r3d\"]<=r3drange]\n",
    "\n",
    "for i in range(n_bins):\n",
    "\trmask = np.logical_and(df_slice[\"rproj\"]>=rbins[i], df_slice[\"rproj\"]<=rbins[i+1])\n",
    "\tfor j in range(n_bins):\n",
    "\t\tvmask = np.logical_and(df_slice[\"vproj\"]>=vbins[j+1], df_slice[\"vproj\"]<=vbins[j])\n",
    "\t\tsubset = df_slice.loc[np.logical_and(rmask, vmask)]\n",
    "\t\taxs[j,i].hist(subset[\"# r3d\"], bins=r3dbins, density=True)\n",
    "\t\tif j == n_bins - 1:\n",
    "\t\t\taxs[j,i].set_xlabel(r\"$r_\\mathrm{3D}$\")\n",
    "\t\telse:\n",
    "\t\t\taxs[j,i].set_xticks([])\n",
    "\t\tif i == 0:\n",
    "\t\t\taxs[j,i].set_ylabel(r\"$P(r_\\mathrm{3D})$\")\n",
    "\t\telse:\n",
    "\t\t\taxs[j,i].set_yticks([])\n",
    "#\t\taxs[j,i].set_ylim([0,0.2])\n",
    "\t\taxs[j,i].set_xlim([0,r3drange])\n",
    "\t\taxs[j,i].legend(title=f\"r={rbins[i:i+1].mean():.1f}, v={vbins[j:j+1].mean():.1f}\")\n",
    "\t\tprint(f\"{int(100*(i*n_bins+j)/n_bins**2)}%\", flush=True, end=\"\\r\")\n",
    "\n",
    "fig.tight_layout()\n",
    "fig.savefig(imagefolder+\"histograms_cluster.png\")\n",
    "plt.close()"
   ]
  },
  {
   "cell_type": "code",
   "execution_count": null,
   "id": "659306a8",
   "metadata": {},
   "outputs": [],
   "source": [
    "fig, axs = plt.subplots(n_bins, n_bins, figsize=(n_bins*4,)*2)\n",
    "\n",
    "vbins = np.linspace(3, -3, n_bins+1)\n",
    "rbins = np.linspace(0, 10, n_bins+1)\n",
    "r3dbins = np.geomspace(0.1, df[\"# r3d\"].max(), 100)\n",
    "\n",
    "for i in range(n_bins):\n",
    "\trmask = np.logical_and(df[\"rproj\"]>=rbins[i], df[\"rproj\"]<=rbins[i+1])\n",
    "\tfor j in range(n_bins):\n",
    "\t\tvmask = np.logical_and(df[\"vproj\"]>=vbins[j+1], df[\"vproj\"]<=vbins[j])\n",
    "\t\tsubset = df.loc[np.logical_and(rmask, vmask)]\n",
    "\t\taxs[j,i].hist(subset[\"# r3d\"], bins=r3dbins, density=True)\n",
    "\t\taxs[j,i].set_xscale(\"log\")\n",
    "\t\tif j == n_bins - 1:\n",
    "\t\t\taxs[j,i].set_xlabel(r\"$r_\\mathrm{3D}$\")\n",
    "\t\telse:\n",
    "\t\t\taxs[j,i].set_xticks([])\n",
    "\t\tif i == 0:\n",
    "\t\t\taxs[j,i].set_ylabel(r\"$P(r_\\mathrm{3D})$\")\n",
    "\t\telse:\n",
    "\t\t\taxs[j,i].set_yticks([])\n",
    "\t\taxs[j,i].set_ylim([0,0.2])\n",
    "\t\taxs[j,i].legend(title=f\"r={rbins[i:i+1].mean():.1f}, v={vbins[j:j+1].mean():.1f}\")\n",
    "\t\tprint(f\"{int(100*(i*n_bins+j)/n_bins**2)}%\", flush=True, end=\"\\r\")\n",
    "\n",
    "fig.tight_layout()\n",
    "fig.savefig(imagefolder+\"loghistograms.png\")\n",
    "plt.close()"
   ]
  },
  {
   "cell_type": "markdown",
   "id": "972c2e7f-eb77-455a-b9d2-83e26ce5fc81",
   "metadata": {},
   "source": [
    "### Velocity w.r.t. R3D"
   ]
  },
  {
   "cell_type": "code",
   "execution_count": null,
   "id": "e7a38dca",
   "metadata": {},
   "outputs": [],
   "source": [
    "df_slice = df.loc[df[\"# r3d\"]<=50]\n",
    "sb.histplot(x=df_slice[\"# r3d\"], y=np.abs(df_slice[\"vproj\"]), bins=101)"
   ]
  },
  {
   "cell_type": "code",
   "execution_count": null,
   "id": "d395c654",
   "metadata": {},
   "outputs": [],
   "source": []
  }
 ],
 "metadata": {
  "kernelspec": {
   "display_name": "env",
   "language": "python",
   "name": "python3"
  },
  "language_info": {
   "codemirror_mode": {
    "name": "ipython",
    "version": 3
   },
   "file_extension": ".py",
   "mimetype": "text/x-python",
   "name": "python",
   "nbconvert_exporter": "python",
   "pygments_lexer": "ipython3",
   "version": "3.12.3"
  }
 },
 "nbformat": 4,
 "nbformat_minor": 5
}
