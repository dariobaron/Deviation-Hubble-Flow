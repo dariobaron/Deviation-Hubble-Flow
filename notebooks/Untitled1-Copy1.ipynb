{
 "cells": [
  {
   "cell_type": "code",
   "execution_count": null,
   "id": "7b270cfc-724e-4337-9599-e96d0efa5f6f",
   "metadata": {},
   "outputs": [],
   "source": [
    "import os\n",
    "os.chdir(\"..\")"
   ]
  },
  {
   "cell_type": "code",
   "execution_count": null,
   "id": "e4cc2565-e16b-4a86-aea4-7a033748ee6c",
   "metadata": {},
   "outputs": [],
   "source": [
    "import pandas as pd\n",
    "import numpy as np\n",
    "import matplotlib.pyplot as plt\n",
    "from scipy.optimize import curve_fit\n",
    "import seaborn as sb\n",
    "import math"
   ]
  },
  {
   "cell_type": "code",
   "execution_count": null,
   "id": "2433a053-ca29-4025-b94a-d2dc2d5cd401",
   "metadata": {},
   "outputs": [],
   "source": [
    "from project.kerneldensityestimation import KernelDensityEstimation as KDE\n",
    "from project.mixturedensity import MixtureDensity as MixDens\n",
    "from project.model import Model\n",
    "from project.dataholder import DataHolder\n",
    "from project.lossfunction import MaximizeLikelihood\n",
    "from project.optimizer import SPSA, SA\n",
    "from project.topographicmap import TopographicMap"
   ]
  },
  {
   "cell_type": "code",
   "execution_count": null,
   "id": "8f16aa4d-c137-4882-a10f-060903b0348e",
   "metadata": {},
   "outputs": [],
   "source": [
    "datafolder = \"data/\"\n",
    "imagefolder = \"figures/\""
   ]
  },
  {
   "cell_type": "code",
   "execution_count": null,
   "id": "6bed9a67-0c8a-4098-b0a3-c034066fa624",
   "metadata": {},
   "outputs": [],
   "source": [
    "Winit = np.loadtxt(\"initW.txt\")"
   ]
  },
  {
   "cell_type": "code",
   "execution_count": null,
   "id": "77bce956-63e6-44fe-a471-662cd410ce6f",
   "metadata": {},
   "outputs": [],
   "source": [
    "df = pd.read_csv(datafolder+\"data.tsv\", delimiter=\"\\t\")"
   ]
  },
  {
   "cell_type": "code",
   "execution_count": null,
   "id": "fe568901-bac6-4a51-a6bb-718bc27ba6fd",
   "metadata": {},
   "outputs": [],
   "source": [
    "df"
   ]
  },
  {
   "cell_type": "code",
   "execution_count": null,
   "id": "019b41c4-e133-4ed7-8493-53fb5726feef",
   "metadata": {},
   "outputs": [],
   "source": [
    "n_bins = 2\n",
    "continue_flag = True\n",
    "while continue_flag:\n",
    "\tcounts,_,_ = np.histogram2d(df[\"rproj\"], df[\"vproj\"], bins=n_bins, range=[[0,10],[-3,3]])\n",
    "\tprint(f\"Using {n_bins} bins, with min {counts.min()}\", end=\"\\r\", flush=True)\n",
    "\tif counts.min() < 50:\n",
    "\t\tcontinue_flag = False\n",
    "\t\tn_bins -= 1\n",
    "\t\tcounts,_,_ = np.histogram2d(df[\"rproj\"], df[\"vproj\"], bins=n_bins, range=[[0,10],[-3,3]])\n",
    "\telse:\n",
    "\t\tn_bins += 1\n",
    "print(f\"Using {n_bins} bins, with min {counts.min()}\", flush=True)"
   ]
  },
  {
   "cell_type": "code",
   "execution_count": null,
   "id": "dfc148dd-702d-46bb-b8e2-dbf95568271e",
   "metadata": {},
   "outputs": [],
   "source": [
    "sb.histplot(data=df, x=\"rproj\", y=\"vproj\", bins=n_bins, cbar=True)"
   ]
  },
  {
   "cell_type": "code",
   "execution_count": null,
   "id": "dada8b9a-1487-4bd3-98f7-d40c5d94a36d",
   "metadata": {},
   "outputs": [],
   "source": [
    "vbins = np.linspace(3, -3, n_bins+1)\n",
    "rbins = np.linspace(0, 10, n_bins+1)\n",
    "binwidth = 5\n",
    "r3dbins = np.arange(0, df[\"# r3d\"].max()+binwidth, binwidth)"
   ]
  },
  {
   "cell_type": "code",
   "execution_count": null,
   "id": "e24867fe-0010-4688-a303-9df9c0e53ef3",
   "metadata": {},
   "outputs": [],
   "source": [
    "import time"
   ]
  },
  {
   "cell_type": "code",
   "execution_count": null,
   "id": "ad0c7bad-a665-40cc-a74a-3e3cf6a80f26",
   "metadata": {},
   "outputs": [],
   "source": [
    "n_kernels = 4\n",
    "tm = TopographicMap(0, 10, -3, 3, n_kernels, n_kernels)"
   ]
  },
  {
   "cell_type": "code",
   "execution_count": null,
   "id": "f7793a01-c316-4e81-ae94-fdfb4fc0f427",
   "metadata": {},
   "outputs": [],
   "source": [
    "fig, axs = plt.subplots(n_bins, n_bins, figsize=(n_bins*4,)*2)\n",
    "\n",
    "model = Model(tm)\n",
    "def pymixture(xs, a1, a2, a3, m1, s1, m2, s2, m3, s3):\n",
    "\tprint(f\"{a1:.2f}, {a2:.2f}, {a3:.2f}, {m1:.2f}, {s1:.2f}, {m2:.2f}, {s2:.2f}, {m3:.2f}, {s3:.2f}\", end=\"\\r\", flush=True)\n",
    "\tmixture = model.evalOnThetas(np.array([a1, a2, a3, m1, s1, m2, s2, m3, s3]))\n",
    "\treturn mixture(xs)\n",
    "\n",
    "initial_params = []\n",
    "n_evals = []\n",
    "for i in range(n_bins):\n",
    "\trmask = np.logical_and(df[\"rproj\"]>=rbins[i], df[\"rproj\"]<=rbins[i+1])\n",
    "\tfor j in range(n_bins):\n",
    "\t\tvmask = np.logical_and(df[\"vproj\"]>=vbins[j+1], df[\"vproj\"]<=vbins[j])\n",
    "\t\tsubset = df.loc[np.logical_and(rmask, vmask)]\n",
    "\t\taxs[j,i].hist(subset[\"# r3d\"], bins=r3dbins, density=True, alpha=0.5, label=\"data\")\n",
    "\t\tvalues = subset[\"# r3d\"].to_numpy()\n",
    "\t\tkde = KDE(values, 3)\n",
    "\t\txs = np.linspace(r3dbins.min(), r3dbins.max(), 101)\n",
    "\t\taxs[j,i].plot(xs, kde(xs), linewidth=5, label=\"kde\")\n",
    "\t\tparams,_,output_dict,_,_ = curve_fit(pymixture, xs, kde(xs), p0=[1,1,1,5,5,5,1,1,1], bounds=([-np.inf,-np.inf,-np.inf,-np.inf,-np.inf,-np.inf,-10,-10,-10],[10,10,10,np.inf,np.inf,np.inf,10,10,10]), full_output=True)\n",
    "\t\tinitial_params.append(params)\n",
    "\t\tmixture = model.evalOnThetas(params)\n",
    "\t\taxs[j,i].plot(xs, mixture(xs), linestyle=\"--\", linewidth=5, label=\"mixture\")\n",
    "\t\tif j == n_bins - 1:\n",
    "\t\t\taxs[j,i].set_xlabel(r\"$r_\\mathrm{3D}$\")\n",
    "\t\telse:\n",
    "\t\t\taxs[j,i].set_xticks([])\n",
    "\t\tif i == 0:\n",
    "\t\t\taxs[j,i].set_ylabel(r\"$P(r_\\mathrm{3D})$\")\n",
    "\t\telse:\n",
    "\t\t\taxs[j,i].set_yticks([])\n",
    "\t\taxs[j,i].set_ylim([0,0.05])\n",
    "\t\taxs[j,i].legend(title=f\"r={rbins[i:i+2].mean():.1f}, v={vbins[j:j+2].mean():.1f}\")\n",
    "\t\tn_evals.append(output_dict[\"nfev\"])\n",
    "\n",
    "fig.tight_layout()\n",
    "fig.savefig(imagefolder+\"initialization.png\")\n",
    "fig.savefig(imagefolder+\"initialization.pdf\")\n",
    "\n",
    "initial_params = np.array(initial_params).T"
   ]
  },
  {
   "cell_type": "code",
   "execution_count": null,
   "id": "2ea4d900-4fae-4333-99a4-2c7f23546858",
   "metadata": {},
   "outputs": [],
   "source": [
    "plt.plot(n_evals)\n",
    "plt.axhline(np.mean(n_evals))"
   ]
  },
  {
   "cell_type": "code",
   "execution_count": null,
   "id": "1396ed36-0f26-436e-991e-91c821e0009b",
   "metadata": {},
   "outputs": [],
   "source": [
    "fig, axs = plt.subplots(n_bins, n_bins, figsize=(n_bins*4,)*2)\n",
    "\n",
    "def pymixture(xs, a1, a2, a3, m1, s1, m2, s2, m3, s3):\n",
    "\tprint(f\"{a1:.2f}, {a2:.2f}, {a3:.2f}, {m1:.2f}, {s1:.2f}, {m2:.2f}, {s2:.2f}, {m3:.2f}, {s3:.2f}\", end=\"\\r\", flush=True)\n",
    "\tmixture = MixDens()\n",
    "\tparams = np.array([a1, a2, a3, m1, s1, m2, s2, m3, s3])\n",
    "\tmixture.setParams(params)\n",
    "\treturn mixture(xs)\n",
    "\n",
    "initial_params = []\n",
    "n_evals = []\n",
    "for i in range(n_bins):\n",
    "\trmask = np.logical_and(df[\"rproj\"]>=rbins[i], df[\"rproj\"]<=rbins[i+1])\n",
    "\tfor j in range(n_bins):\n",
    "\t\tvmask = np.logical_and(df[\"vproj\"]>=vbins[j+1], df[\"vproj\"]<=vbins[j])\n",
    "\t\tsubset = df.loc[np.logical_and(rmask, vmask)]\n",
    "\t\taxs[j,i].hist(subset[\"# r3d\"], bins=r3dbins, density=True, alpha=0.5, label=\"data\")\n",
    "\t\tvalues = subset[\"# r3d\"].to_numpy()\n",
    "\t\tkde = KDE(values, 3)\n",
    "\t\txs = np.linspace(r3dbins.min(), r3dbins.max(), 101)\n",
    "\t\taxs[j,i].plot(xs, kde(xs), linewidth=5, label=\"kde\")\n",
    "\t\tparams,_,output_dict,_,_ = curve_fit(pymixture, xs, kde(xs), p0=[1,1,1,5,5,5,1,1,1], bounds=([0,0,0,-np.inf,-np.inf,-np.inf,0,0,0],[np.inf,np.inf,np.inf,np.inf,np.inf,np.inf,100,100,100]), full_output=True)\n",
    "\t\tinitial_params.append(params)\n",
    "\t\tmixture = MixDens()\n",
    "\t\tmixture.setParams(params)\n",
    "\t\taxs[j,i].plot(xs, mixture(xs), linestyle=\"--\", linewidth=5, label=\"mixture\")\n",
    "\t\tif j == n_bins - 1:\n",
    "\t\t\taxs[j,i].set_xlabel(r\"$r_\\mathrm{3D}$\")\n",
    "\t\telse:\n",
    "\t\t\taxs[j,i].set_xticks([])\n",
    "\t\tif i == 0:\n",
    "\t\t\taxs[j,i].set_ylabel(r\"$P(r_\\mathrm{3D})$\")\n",
    "\t\telse:\n",
    "\t\t\taxs[j,i].set_yticks([])\n",
    "\t\taxs[j,i].set_ylim([0,0.05])\n",
    "\t\taxs[j,i].legend(title=f\"r={rbins[i:i+2].mean():.1f}, v={vbins[j:j+2].mean():.1f}\")\n",
    "\t\tn_evals.append(output_dict[\"nfev\"])\n",
    "\n",
    "fig.tight_layout()\n",
    "fig.savefig(imagefolder+\"initialization.png\")\n",
    "fig.savefig(imagefolder+\"initialization.pdf\")\n",
    "\n",
    "initial_params = np.array(initial_params).T"
   ]
  },
  {
   "cell_type": "code",
   "execution_count": null,
   "id": "6b63c23e-bebd-40f8-84b0-4de0ea9a592a",
   "metadata": {},
   "outputs": [],
   "source": [
    "plt.plot(n_evals)\n",
    "plt.axhline(np.mean(n_evals))"
   ]
  },
  {
   "cell_type": "code",
   "execution_count": null,
   "id": "fab64665-2012-4a42-b490-8533cb1a5fae",
   "metadata": {},
   "outputs": [],
   "source": [
    "initial_params.shape"
   ]
  },
  {
   "cell_type": "code",
   "execution_count": null,
   "id": "9828e62e-d2c0-471b-98a5-b51811591a48",
   "metadata": {},
   "outputs": [],
   "source": []
  },
  {
   "cell_type": "code",
   "execution_count": null,
   "id": "3aed86af-f68c-49f0-a757-6cd8cab012b0",
   "metadata": {},
   "outputs": [],
   "source": [
    "initial_phis = []\n",
    "rcentres = 0.5 * (rbins[1:] + rbins[:-1])\n",
    "vcentres = 0.5 * (vbins[1:] + vbins[:-1])\n",
    "for i in range(n_bins):\n",
    "\tfor j in range(n_bins):\n",
    "\t\tinitial_phis.append(tm(rcentres[i], vcentres[j]))\n",
    "initial_phis = np.array(initial_phis).T"
   ]
  },
  {
   "cell_type": "code",
   "execution_count": null,
   "id": "75eb6281-016c-4e4e-a057-1bab73d7eda0",
   "metadata": {},
   "outputs": [],
   "source": [
    "initial_phis.shape"
   ]
  },
  {
   "cell_type": "code",
   "execution_count": null,
   "id": "3de7e3fe-fa92-4502-8fbd-c5027807b531",
   "metadata": {},
   "outputs": [],
   "source": [
    "np.linalg.pinv(initial_phis).shape"
   ]
  },
  {
   "cell_type": "code",
   "execution_count": null,
   "id": "1a330789-be02-4491-8343-d7f323209152",
   "metadata": {},
   "outputs": [],
   "source": [
    "Winit = initial_params @ np.linalg.pinv(initial_phis)\n",
    "Winit"
   ]
  },
  {
   "cell_type": "code",
   "execution_count": null,
   "id": "83ed3e80-a8d6-4fbb-9eaf-cc9c5a2bde52",
   "metadata": {},
   "outputs": [],
   "source": [
    "Winit.shape"
   ]
  },
  {
   "cell_type": "code",
   "execution_count": null,
   "id": "b780c0ae-b2c7-4faa-8c88-d350be0e04f8",
   "metadata": {},
   "outputs": [],
   "source": [
    "model.setParameters(Winit)"
   ]
  },
  {
   "cell_type": "code",
   "execution_count": null,
   "id": "2411e352-bb20-4135-a6b8-09ad89d71f50",
   "metadata": {},
   "outputs": [],
   "source": [
    "model.evalOnInput(rcentres[0], vcentres[0])"
   ]
  },
  {
   "cell_type": "code",
   "execution_count": null,
   "id": "ed866f99-8c47-4ef3-b3b9-18bfea6203c0",
   "metadata": {},
   "outputs": [],
   "source": [
    "Winit @ tm(rcentres[0], vcentres[0])"
   ]
  },
  {
   "cell_type": "code",
   "execution_count": null,
   "id": "a8d65a93-7476-4a23-a51a-30413e5c5a2f",
   "metadata": {},
   "outputs": [],
   "source": [
    "initial_params[:,0]"
   ]
  },
  {
   "cell_type": "code",
   "execution_count": null,
   "id": "aded739b-2cbb-4aa3-a33c-589337a1ec0a",
   "metadata": {},
   "outputs": [],
   "source": [
    "(Winit @ initial_phis)[:,0]"
   ]
  },
  {
   "cell_type": "code",
   "execution_count": null,
   "id": "1dcd1b71-6ef8-4467-9c62-06fdae86fb64",
   "metadata": {},
   "outputs": [],
   "source": [
    "fig, axs = plt.subplots(n_bins, n_bins, figsize=(n_bins*4,)*2)\n",
    "\n",
    "remade_parameters = Winit @ initial_phis\n",
    "remade_parameters = np.where(remade_parameters>0, remade_parameters, 0.001)\n",
    "\n",
    "for i in range(n_bins):\n",
    "\trmask = np.logical_and(df[\"rproj\"]>=rbins[i], df[\"rproj\"]<=rbins[i+1])\n",
    "\tfor j in range(n_bins):\n",
    "\t\tvmask = np.logical_and(df[\"vproj\"]>=vbins[j+1], df[\"vproj\"]<=vbins[j])\n",
    "\t\tsubset = df.loc[np.logical_and(rmask, vmask)]\n",
    "\t\taxs[j,i].hist(subset[\"# r3d\"], bins=r3dbins, density=True, alpha=0.5, label=\"data\")\n",
    "\t\tvalues = subset[\"# r3d\"].to_numpy()\n",
    "\t\tkde = KDE(values, 3)\n",
    "\t\txs = np.linspace(r3dbins.min(), r3dbins.max(), 101)\n",
    "\t\taxs[j,i].plot(xs, kde(xs), linewidth=5, label=\"kde\")\n",
    "\t\tmixture.setParams(initial_params[:,i*n_bins+j])\n",
    "\t\taxs[j,i].plot(xs, mixture(xs), linestyle=\"--\", linewidth=5, label=\"mixture\")\n",
    "\t\tmixture.setParams(remade_parameters[:,i*n_bins+j])\n",
    "\t\taxs[j,i].plot(xs, mixture(xs), linestyle=\"--\", linewidth=5, label=\"after inversion\")\n",
    "\t\tif j == n_bins - 1:\n",
    "\t\t\taxs[j,i].set_xlabel(r\"$r_\\mathrm{3D}$\")\n",
    "\t\telse:\n",
    "\t\t\taxs[j,i].set_xticks([])\n",
    "\t\tif i == 0:\n",
    "\t\t\taxs[j,i].set_ylabel(r\"$P(r_\\mathrm{3D})$\")\n",
    "\t\telse:\n",
    "\t\t\taxs[j,i].set_yticks([])\n",
    "\t\taxs[j,i].set_ylim([0,0.05])\n",
    "\t\taxs[j,i].legend(title=f\"r={rbins[i:i+2].mean():.1f}, v={vbins[j:j+2].mean():.1f}\")\n",
    "\n",
    "fig.tight_layout()\n",
    "fig.savefig(imagefolder+\"true_initialization.png\")"
   ]
  },
  {
   "cell_type": "code",
   "execution_count": null,
   "id": "a09a0714-4d20-407d-b97d-22280f51da1b",
   "metadata": {},
   "outputs": [],
   "source": []
  },
  {
   "cell_type": "code",
   "execution_count": null,
   "id": "2988b77e-1d69-423c-a550-44015a0ae8bd",
   "metadata": {},
   "outputs": [],
   "source": [
    "initial_phis"
   ]
  },
  {
   "cell_type": "code",
   "execution_count": null,
   "id": "11bf799c-5992-4808-a1ea-b5dda0ceee66",
   "metadata": {},
   "outputs": [],
   "source": [
    "U,S,Vt = np.linalg.svd(initial_phis)"
   ]
  },
  {
   "cell_type": "code",
   "execution_count": null,
   "id": "1f60e59b-a8f8-4d24-8358-7e30a1e4c972",
   "metadata": {},
   "outputs": [],
   "source": [
    "S"
   ]
  },
  {
   "cell_type": "code",
   "execution_count": null,
   "id": "068b42ee-c1cb-4827-8cc3-b044987f670a",
   "metadata": {},
   "outputs": [],
   "source": []
  },
  {
   "cell_type": "code",
   "execution_count": null,
   "id": "fa8c55ce-efad-4598-be81-b415224f7ce7",
   "metadata": {},
   "outputs": [],
   "source": [
    "pseudoinv_initphis = initial_phis.T @ np.linalg.inv(initial_phis@initial_phis.T)"
   ]
  },
  {
   "cell_type": "code",
   "execution_count": null,
   "id": "e3c31b0a-396b-4e28-a6fe-6a5705ced03a",
   "metadata": {},
   "outputs": [],
   "source": [
    "Winit = initial_params @ pseudoinv_initphis"
   ]
  },
  {
   "cell_type": "code",
   "execution_count": null,
   "id": "da46ec4e-992c-48b7-b7d1-4aa302ebb94f",
   "metadata": {},
   "outputs": [],
   "source": [
    "_,what,_ = np.linalg.svd(initial_phis@initial_phis.T)\n",
    "what"
   ]
  },
  {
   "cell_type": "code",
   "execution_count": null,
   "id": "7f9a9eb0-e587-4ac9-91f1-7e12f99fbf0b",
   "metadata": {},
   "outputs": [],
   "source": [
    "fig, axs = plt.subplots(n_bins, n_bins, figsize=(n_bins*4,)*2)\n",
    "\n",
    "remade_parameters = Winit @ initial_phis\n",
    "remade_parameters = np.where(remade_parameters>0, remade_parameters, 0.001)\n",
    "\n",
    "for i in range(n_bins):\n",
    "\trmask = np.logical_and(df[\"rproj\"]>=rbins[i], df[\"rproj\"]<=rbins[i+1])\n",
    "\tfor j in range(n_bins):\n",
    "\t\tvmask = np.logical_and(df[\"vproj\"]>=vbins[j+1], df[\"vproj\"]<=vbins[j])\n",
    "\t\tsubset = df.loc[np.logical_and(rmask, vmask)]\n",
    "\t\taxs[j,i].hist(subset[\"# r3d\"], bins=r3dbins, density=True, alpha=0.5, label=\"data\")\n",
    "\t\tvalues = subset[\"# r3d\"].to_numpy()\n",
    "\t\tkde = KDE(values, 3)\n",
    "\t\txs = np.linspace(r3dbins.min(), r3dbins.max(), 101)\n",
    "\t\taxs[j,i].plot(xs, kde(xs), linewidth=5, label=\"kde\")\n",
    "\t\tmixture.setParams(initial_params[:,i*n_bins+j])\n",
    "\t\taxs[j,i].plot(xs, mixture(xs), linestyle=\"--\", linewidth=5, label=\"mixture\")\n",
    "\t\tmixture.setParams(remade_parameters[:,i*n_bins+j])\n",
    "\t\taxs[j,i].plot(xs, mixture(xs), linestyle=\"--\", linewidth=5, label=\"after inversion\")\n",
    "\t\tif j == n_bins - 1:\n",
    "\t\t\taxs[j,i].set_xlabel(r\"$r_\\mathrm{3D}$\")\n",
    "\t\telse:\n",
    "\t\t\taxs[j,i].set_xticks([])\n",
    "\t\tif i == 0:\n",
    "\t\t\taxs[j,i].set_ylabel(r\"$P(r_\\mathrm{3D})$\")\n",
    "\t\telse:\n",
    "\t\t\taxs[j,i].set_yticks([])\n",
    "\t\taxs[j,i].set_ylim([0,0.05])\n",
    "\t\taxs[j,i].legend(title=f\"r={rbins[i:i+2].mean():.1f}, v={vbins[j:j+2].mean():.1f}\")\n",
    "\n",
    "fig.tight_layout()\n",
    "fig.savefig(imagefolder+\"true_initialization.png\")"
   ]
  },
  {
   "cell_type": "code",
   "execution_count": null,
   "id": "b151402b-31d7-49ee-aca4-cc4efa3ffee9",
   "metadata": {},
   "outputs": [],
   "source": []
  },
  {
   "cell_type": "code",
   "execution_count": null,
   "id": "d6182a2e-e2f5-4022-909d-198ca9e6e2b5",
   "metadata": {},
   "outputs": [],
   "source": []
  },
  {
   "cell_type": "code",
   "execution_count": null,
   "id": "ade4609f-06dd-4597-bb76-f4d4566bdbf5",
   "metadata": {},
   "outputs": [],
   "source": [
    "dataholder = DataHolder(df[[\"rproj\",\"vproj\",\"# r3d\"]].to_numpy()[:100000])"
   ]
  },
  {
   "cell_type": "code",
   "execution_count": null,
   "id": "c75952a0-b82e-422a-993c-38a193ca726e",
   "metadata": {},
   "outputs": [],
   "source": [
    "lossfunction = MaximizeLikelihood(dataholder, model)"
   ]
  },
  {
   "cell_type": "code",
   "execution_count": null,
   "id": "fcbb3fb5-1cc1-4f54-a225-df0ac5841f0a",
   "metadata": {},
   "outputs": [],
   "source": [
    "optimizer = SPSA()"
   ]
  },
  {
   "cell_type": "code",
   "execution_count": null,
   "id": "1879b5a6-3dad-4a79-b549-d40d060abade",
   "metadata": {},
   "outputs": [],
   "source": [
    "optimizer.maxIterations"
   ]
  },
  {
   "cell_type": "code",
   "execution_count": null,
   "id": "ced42748-a667-4324-ac3a-06d82df655e8",
   "metadata": {},
   "outputs": [],
   "source": [
    "W = optimizer.optimize(lossfunction, Winit)\n",
    "W"
   ]
  },
  {
   "cell_type": "code",
   "execution_count": null,
   "id": "76ccc73e-77bb-49c1-ad25-5a83b94aea19",
   "metadata": {},
   "outputs": [],
   "source": [
    "n_bins = 25\n",
    "\n",
    "fig, axs = plt.subplots(n_bins, n_bins, figsize=(n_bins*4,)*2)\n",
    "\n",
    "vbins = np.linspace(3, -3, n_bins+1)\n",
    "rbins = np.linspace(0, 10, n_bins+1)\n",
    "binwidth = 5\n",
    "r3dbins = np.arange(0, df[\"# r3d\"].max()+binwidth, binwidth)\n",
    "\n",
    "for i in range(n_bins):\n",
    "\trmask = np.logical_and(df[\"rproj\"]>=rbins[i], df[\"rproj\"]<=rbins[i+1])\n",
    "\tfor j in range(n_bins):\n",
    "\t\tvmask = np.logical_and(df[\"vproj\"]>=vbins[j+1], df[\"vproj\"]<=vbins[j])\n",
    "\t\tsubset = df.loc[np.logical_and(rmask, vmask)]\n",
    "\t\taxs[j,i].hist(subset[\"# r3d\"], bins=r3dbins, density=True, alpha=0.5, label=\"data\")\n",
    "\t\tvalues = subset[\"# r3d\"].to_numpy()\n",
    "\t\tkde = KDE(values, 3)\n",
    "\t\txs = np.linspace(r3dbins.min(), r3dbins.max(), 101)\n",
    "\t\taxs[j,i].plot(xs, kde(xs), linewidth=3, label=\"KDE\")\n",
    "\t\tfinal_model.setParameters(W)\n",
    "\t\ttargetdensity = final_model.evalOnInput(0.5*(rbins[i]+rbins[i+1]), 0.5*(vbins[i]+vbins[i+1]))\n",
    "\t\taxs[j,i].plot(xs, targetdensity(xs), linestyle=\"--\", linewidth=3, label=\"after optimization\")\n",
    "\t\tfinal_model.setParameters(Winit)\n",
    "\t\tinitdensity = final_model.evalOnInput(0.5*(rbins[i]+rbins[i+1]), 0.5*(vbins[i]+vbins[i+1]))\n",
    "\t\taxs[j,i].plot(xs, initdensity(xs), linestyle=\":\", linewidth=5, label=\"with initialization\")\n",
    "\t\tif j == n_bins - 1:\n",
    "\t\t\taxs[j,i].set_xlabel(r\"$r_\\mathrm{3D}$\")\n",
    "\t\telse:\n",
    "\t\t\taxs[j,i].set_xticks([])\n",
    "\t\tif i == 0:\n",
    "\t\t\taxs[j,i].set_ylabel(r\"$P(r_\\mathrm{3D})$\")\n",
    "\t\telse:\n",
    "\t\t\taxs[j,i].set_yticks([])\n",
    "\t\taxs[j,i].set_ylim([0,0.05])\n",
    "\t\taxs[j,i].legend(title=f\"r={rbins[i:i+1].mean():.1f}, v={vbins[j:j+1].mean():.1f}\")\n",
    "\n",
    "fig.tight_layout()\n",
    "fig.savefig(imagefolder+\"withSPSA.pdf\")\n",
    "fig.savefig(imagefolder+\"withSPSA.png\")"
   ]
  },
  {
   "cell_type": "code",
   "execution_count": null,
   "id": "615a1312-5341-4804-814e-49ca370f1df2",
   "metadata": {},
   "outputs": [],
   "source": []
  }
 ],
 "metadata": {
  "kernelspec": {
   "display_name": "Python 3 (ipykernel)",
   "language": "python",
   "name": "python3"
  },
  "language_info": {
   "codemirror_mode": {
    "name": "ipython",
    "version": 3
   },
   "file_extension": ".py",
   "mimetype": "text/x-python",
   "name": "python",
   "nbconvert_exporter": "python",
   "pygments_lexer": "ipython3",
   "version": "3.12.3"
  }
 },
 "nbformat": 4,
 "nbformat_minor": 5
}
