{
 "cells": [
  {
   "cell_type": "code",
   "execution_count": null,
   "id": "7b70b13b-d67b-47d4-9e10-bb898dd2bc6d",
   "metadata": {},
   "outputs": [],
   "source": [
    "import os\n",
    "os.chdir(\"..\")"
   ]
  },
  {
   "cell_type": "code",
   "execution_count": null,
   "id": "8ee9e1a3-ad90-4110-96ba-4e8dd4fa6042",
   "metadata": {},
   "outputs": [],
   "source": [
    "import pandas as pd\n",
    "from matplotlib import pyplot as plt\n",
    "import matplotlib as mpl\n",
    "import seaborn as sb\n",
    "import numpy as np"
   ]
  },
  {
   "cell_type": "code",
   "execution_count": null,
   "id": "8f16aa4d-c137-4882-a10f-060903b0348e",
   "metadata": {},
   "outputs": [],
   "source": [
    "datafolder = \"data/\"\n",
    "imagefolder = \"figures/\""
   ]
  },
  {
   "cell_type": "code",
   "execution_count": null,
   "id": "42c03167-b342-49e5-9087-20e99fe081f6",
   "metadata": {},
   "outputs": [],
   "source": [
    "df = pd.read_csv(datafolder+\"allhosts3.tsv\", delimiter=\"\\t\")"
   ]
  },
  {
   "cell_type": "code",
   "execution_count": null,
   "id": "26a216b3-f1a8-4b58-b040-cdb831b6798d",
   "metadata": {},
   "outputs": [],
   "source": [
    "df"
   ]
  },
  {
   "cell_type": "markdown",
   "id": "7fcc74e4",
   "metadata": {},
   "source": [
    "### Check spins are all equally represented"
   ]
  },
  {
   "cell_type": "code",
   "execution_count": null,
   "id": "93cf1ac1-192e-4ad8-9068-ee85e2305870",
   "metadata": {},
   "outputs": [],
   "source": [
    "fig, ax = plt.subplots()\n",
    "df[\"spin\"].hist(bins=np.arange(0.5,51), ax=ax, color=\"black\", edgecolor=\"white\")\n",
    "ax.set_title(\"Point of View\")\n",
    "ax.set_ylabel(\"Counts\")\n",
    "ax.set_xlabel(\"Direction\")\n",
    "ax.set_xlim([0,51])\n",
    "fig.tight_layout()\n",
    "fig.savefig(imagefolder+\"spins.png\")"
   ]
  },
  {
   "cell_type": "markdown",
   "id": "dc064b4e",
   "metadata": {},
   "source": [
    "### Check mass distribution"
   ]
  },
  {
   "cell_type": "code",
   "execution_count": null,
   "id": "58af7b86",
   "metadata": {},
   "outputs": [],
   "source": [
    "mass_bins = np.linspace(df[\"mvirCl\"].min(), df[\"mvirCl\"].max(), 7)\n",
    "labels = [f\"From M={mass_bins[i]:.3e} to M={mass_bins[i+1]:.3e}\" for i in range(len(mass_bins)-1)]"
   ]
  },
  {
   "cell_type": "code",
   "execution_count": null,
   "id": "5ddff0a5",
   "metadata": {},
   "outputs": [],
   "source": [
    "values[[10,15]]"
   ]
  },
  {
   "cell_type": "code",
   "execution_count": null,
   "id": "030fee23",
   "metadata": {},
   "outputs": [],
   "source": [
    "values,counts = np.unique(df[\"mvirCl\"], return_counts=True)\n",
    "to_inspect = [14,22]\n",
    "print(f\"There are {len(values)} clusters\")\n",
    "plt.scatter(values, counts)\n",
    "plt.scatter(values[to_inspect], counts[to_inspect], color=\"red\", s=100, marker=\"x\", label=\"To inspect\")\n",
    "plt.xlabel(\"Cluster mass\")\n",
    "plt.ylabel(\"Counts\")\n",
    "for b in mass_bins:\n",
    "\tplt.axvline(b, color=\"red\", linestyle=\"--\")\n",
    "subdf = df.set_index(\"mvirCl\").loc[values[to_inspect]]"
   ]
  },
  {
   "cell_type": "markdown",
   "id": "28abecb0",
   "metadata": {},
   "source": [
    "### Check distributions of input data"
   ]
  },
  {
   "cell_type": "code",
   "execution_count": null,
   "id": "4b830c51-6f79-42de-9686-001e88760a40",
   "metadata": {},
   "outputs": [],
   "source": [
    "fig, axs = plt.subplots(len(labels), 3, figsize=(12, 1+3*len(labels)))\n",
    "for i, label in enumerate(labels):\n",
    "\tmask = (df[\"mvirCl\"] >= mass_bins[i]) & (df[\"mvirCl\"] < mass_bins[i+1])\n",
    "\tdata = df.loc[mask]\n",
    "\tif data.empty:\n",
    "\t\tcontinue\n",
    "\tsb.histplot(data=data, x=\"rproj\", y=\"vproj\", bins=100, ax=axs[i, 0])\n",
    "\tsb.histplot(data=data, x=\"# r3d\", y=\"vproj\", bins=100, ax=axs[i, 1])\n",
    "\tsb.histplot(data=data, x=\"rproj\", y=\"# r3d\", bins=100, ax=axs[i, 2])\n",
    "\taxs[i, 1].set_title(label)\n",
    "fig.tight_layout()"
   ]
  },
  {
   "cell_type": "code",
   "execution_count": null,
   "id": "970c4137",
   "metadata": {},
   "outputs": [],
   "source": [
    "fig, axs = plt.subplots(1, 3, figsize=(12, 4))\n",
    "\n",
    "sb.histplot(data=subdf, x=\"rproj\", y=\"vproj\", bins=100, ax=axs[0])\n",
    "sb.histplot(data=subdf, x=\"# r3d\", y=\"vproj\", bins=100, ax=axs[1])\n",
    "sb.histplot(data=subdf, x=\"rproj\", y=\"# r3d\", bins=100, ax=axs[2])\n",
    "\n",
    "fig.tight_layout()"
   ]
  },
  {
   "cell_type": "code",
   "execution_count": null,
   "id": "da8470f7-b56c-4de6-8b7d-260773f55601",
   "metadata": {},
   "outputs": [],
   "source": [
    "fig, axs = plt.subplots(len(labels), 3, figsize=(12,1+3*len(labels)))\n",
    "for i, label in enumerate(labels):\n",
    "\tmask = (df[\"mvirCl\"] >= mass_bins[i]) & (df[\"mvirCl\"] < mass_bins[i+1])\n",
    "\tdata = df.loc[mask]\n",
    "\tif data.empty:\n",
    "\t\tcontinue\n",
    "\tdata[\"rproj\"].hist(bins=50, density=True, alpha=0.7, ax=axs[i,0])\n",
    "\tdata[\"vproj\"].hist(bins=50, density=True, alpha=0.7, ax=axs[i,1])\n",
    "\tdata[\"# r3d\"].hist(bins=50, density=True, alpha=0.7, ax=axs[i,2])\n",
    "\taxs[i, 1].set_title(label)\n",
    "\taxs[i, 0].plot([0,10],[0.02,0.18], linestyle=\"--\", color=\"k\")\n",
    "\n",
    "fig.suptitle(\"Marginal distributions conditioning variables\")\n",
    "for i in range(len(labels)):\n",
    "\taxs[i, 0].set_xlabel(r\"$r_\\mathrm{proj}$\")\n",
    "\taxs[i, 1].set_xlabel(r\"$v_\\mathrm{proj}$\")\n",
    "\taxs[i, 2].set_xlabel(r\"$R_\\mathrm{3D}$\")\n",
    "\taxs[i, 0].set_ylabel(r\"$P(r_\\mathrm{proj})$\")\n",
    "\taxs[i, 1].set_ylabel(r\"$P(v_\\mathrm{proj})$\")\n",
    "\taxs[i, 2].set_ylabel(r\"$P(R_\\mathrm{3D})$\")\n",
    "\taxs[i, 0].set_xlim([0,10])\n",
    "\taxs[i, 1].set_xlim([-3,3])\n",
    "\taxs[i, 2].set_xlim(left=0)\n",
    "for ax in axs.flatten():\n",
    "\tax.set_ylim(bottom=0)\n",
    "\tax.grid(False)\n",
    "fig.tight_layout()"
   ]
  },
  {
   "cell_type": "code",
   "execution_count": null,
   "id": "21280a64",
   "metadata": {},
   "outputs": [],
   "source": [
    "fig, axs = plt.subplots(1, 3, figsize=(12,4))\n",
    "\n",
    "subdf[\"rproj\"].hist(bins=50, density=True, alpha=0.7, ax=axs[0])\n",
    "subdf[\"vproj\"].hist(bins=50, density=True, alpha=0.7, ax=axs[1])\n",
    "subdf[\"# r3d\"].hist(bins=50, density=True, alpha=0.7, ax=axs[2])\n",
    "axs[0].plot([0,10],[0.02,0.18], linestyle=\"--\", color=\"k\")\n",
    "\n",
    "fig.suptitle(\"Marginal distributions conditioning variables\")\n",
    "axs[0].set_xlabel(r\"$r_\\mathrm{proj}$\")\n",
    "axs[1].set_xlabel(r\"$v_\\mathrm{proj}$\")\n",
    "axs[2].set_xlabel(r\"$R_\\mathrm{3D}$\")\n",
    "axs[0].set_ylabel(r\"$P(r_\\mathrm{proj})$\")\n",
    "axs[1].set_ylabel(r\"$P(v_\\mathrm{proj})$\")\n",
    "axs[2].set_ylabel(r\"$P(R_\\mathrm{3D})$\")\n",
    "axs[0].set_xlim([0,10])\n",
    "axs[1].set_xlim([-3,3])\n",
    "axs[2].set_xlim(left=0)\n",
    "for ax in axs.flatten():\n",
    "\tax.set_ylim(bottom=0)\n",
    "\tax.grid(False)\n",
    "fig.tight_layout()"
   ]
  },
  {
   "cell_type": "markdown",
   "id": "1c0674bd",
   "metadata": {},
   "source": [
    "### Checking Hubble Flow deviation"
   ]
  },
  {
   "cell_type": "code",
   "execution_count": null,
   "id": "f1d1a087",
   "metadata": {},
   "outputs": [],
   "source": [
    "fig, axs = plt.subplots()\n",
    "upperlim = 10\n",
    "sb.histplot(data=df.loc[df[\"# r3d\"]<=upperlim], x=\"# r3d\", y=\"Vradnorm\", bins=[100,50], hue_norm=mpl.colors.LogNorm(), ax=axs)\n",
    "#sb.scatterplot(data=data.loc[data[\"# r3d\"]<=upperlim], x=\"# r3d\", y=\"Vradnorm\", ax=axs[i], color=\"black\", s=10, alpha=0.002)\n",
    "#axs.set_title(label)\n",
    "#axs[i].set_ylim([-2, 3])\n",
    "axs.set_xlim([0, upperlim])\n",
    "beginning = 1\n",
    "xs = np.linspace(beginning, upperlim, 100)\n",
    "Delta = 200\n",
    "axs.plot(xs, np.sqrt(2/Delta)*xs-xs**(-0.42), linestyle=\"--\", color=\"red\")\n",
    "sigma = 1.5\n",
    "axs.plot(xs, np.sqrt(2/Delta)*xs-xs**(-0.42)-sigma, linestyle=\":\", color=\"red\")\n",
    "axs.plot(xs, np.sqrt(2/Delta)*xs-xs**(-0.42)+sigma, linestyle=\":\", color=\"red\")\n",
    "fig.tight_layout()"
   ]
  },
  {
   "cell_type": "code",
   "execution_count": null,
   "id": "e708de00",
   "metadata": {},
   "outputs": [],
   "source": [
    "fig, axs = plt.subplots(len(labels), 1, figsize=(6, 1+len(labels)*5))\n",
    "for i, label in enumerate(labels):\n",
    "\tmask = (df[\"mvirCl\"] >= mass_bins[i]) & (df[\"mvirCl\"] < mass_bins[i+1])\n",
    "\tdata = df.loc[mask]\n",
    "\tif data.empty:\n",
    "\t\tcontinue\n",
    "\tupperlim = 20\n",
    "\tsb.histplot(data=data.loc[data[\"# r3d\"]<=upperlim], x=\"# r3d\", y=\"Vradnorm\", bins=[50,25], hue_norm=mpl.colors.LogNorm(), ax=axs[i])\n",
    "#\tsb.scatterplot(data=data.loc[data[\"# r3d\"]<=upperlim], x=\"# r3d\", y=\"Vradnorm\", ax=axs[i], color=\"black\", s=10, alpha=0.002)\n",
    "\taxs[i].set_title(label)\n",
    "#\taxs[i].set_ylim([-2, 3])\n",
    "\taxs[i].set_xlim([0, upperlim])\n",
    "\tbeginning = 1\n",
    "\txs = np.linspace(beginning, upperlim, 100)\n",
    "\tDelta = 200\n",
    "\taxs[i].plot(xs, np.sqrt(2/Delta)*xs-xs**(-0.42), linestyle=\"--\", color=\"red\")\n",
    "\taxs[i].plot(xs, np.sqrt(2/Delta)*xs, linestyle=\"--\", color=\"k\")\n",
    "fig.tight_layout()"
   ]
  },
  {
   "cell_type": "markdown",
   "id": "74634054",
   "metadata": {},
   "source": [
    "### Checking output distribution"
   ]
  },
  {
   "cell_type": "code",
   "execution_count": null,
   "id": "8681dd94",
   "metadata": {},
   "outputs": [],
   "source": [
    "n_bins = 2\n",
    "continue_flag = True\n",
    "while continue_flag:\n",
    "    counts,_,_ = np.histogram2d(df[\"rproj\"], df[\"vproj\"], bins=n_bins, range=[[0,10],[-3,3]])\n",
    "    print(f\"Using {n_bins} bins, with min {counts.min()}\", end=\"\\r\", flush=True)\n",
    "    if counts.min() < 200:\n",
    "        continue_flag = False\n",
    "        n_bins -= 1\n",
    "    else:\n",
    "        n_bins += 1\n",
    "print(f\"Using {n_bins} bins, with min {counts.min()}\")"
   ]
  },
  {
   "cell_type": "code",
   "execution_count": null,
   "id": "906dd8cd-dd2f-48da-a585-9925fb93bf1b",
   "metadata": {},
   "outputs": [],
   "source": [
    "fig, axs = plt.subplots(n_bins, n_bins, figsize=(n_bins*4,)*2)\n",
    "\n",
    "vbins = np.linspace(3, -3, n_bins+1)\n",
    "rbins = np.linspace(0, 10, n_bins+1)\n",
    "binwidth = 1\n",
    "r3dbins = np.arange(0, df[\"# r3d\"].max()+binwidth, binwidth)\n",
    "\n",
    "for i in range(n_bins):\n",
    "\trmask = np.logical_and(df[\"rproj\"]>=rbins[i], df[\"rproj\"]<=rbins[i+1])\n",
    "\tfor j in range(n_bins):\n",
    "\t\tvmask = np.logical_and(df[\"vproj\"]>=vbins[j+1], df[\"vproj\"]<=vbins[j])\n",
    "\t\tsubset = df.loc[np.logical_and(rmask, vmask)]\n",
    "\t\taxs[j,i].hist(subset[\"# r3d\"], bins=r3dbins, density=True)\n",
    "\t\tif j == n_bins - 1:\n",
    "\t\t\taxs[j,i].set_xlabel(r\"$r_\\mathrm{3D}$\")\n",
    "\t\telse:\n",
    "\t\t\taxs[j,i].set_xticks([])\n",
    "\t\tif i == 0:\n",
    "\t\t\taxs[j,i].set_ylabel(r\"$P(r_\\mathrm{3D})$\")\n",
    "\t\telse:\n",
    "\t\t\taxs[j,i].set_yticks([])\n",
    "\t\taxs[j,i].set_ylim([0,0.2])\n",
    "\t\taxs[j,i].set_xlim(left=0)\n",
    "\t\taxs[j,i].legend(title=f\"r={rbins[i:i+1].mean():.1f}, v={vbins[j:j+1].mean():.1f}\")\n",
    "\t\tprint(f\"{int(100*(i*n_bins+j)/n_bins**2)}%\", flush=True, end=\"\\r\")\n",
    "\n",
    "fig.tight_layout()\n",
    "fig.savefig(imagefolder+\"histograms.png\")\n",
    "plt.close()"
   ]
  },
  {
   "cell_type": "code",
   "execution_count": null,
   "id": "3373e134",
   "metadata": {},
   "outputs": [],
   "source": [
    "r3dbins"
   ]
  },
  {
   "cell_type": "code",
   "execution_count": null,
   "id": "bfd59a64",
   "metadata": {},
   "outputs": [],
   "source": [
    "fig, axs = plt.subplots(n_bins, n_bins, figsize=(n_bins*4,)*2)\n",
    "\n",
    "vbins = np.linspace(3, -3, n_bins+1)\n",
    "rbins = np.linspace(0, 10, n_bins+1)\n",
    "r3drange = 5\n",
    "r3dbins = np.linspace(0, r3drange, 51)\n",
    "\n",
    "df_slice = df.loc[df[\"# r3d\"]<=r3drange]\n",
    "\n",
    "for i in range(n_bins):\n",
    "\trmask = np.logical_and(df_slice[\"rproj\"]>=rbins[i], df_slice[\"rproj\"]<=rbins[i+1])\n",
    "\tfor j in range(n_bins):\n",
    "\t\tvmask = np.logical_and(df_slice[\"vproj\"]>=vbins[j+1], df_slice[\"vproj\"]<=vbins[j])\n",
    "\t\tsubset = df_slice.loc[np.logical_and(rmask, vmask)]\n",
    "\t\taxs[j,i].hist(subset[\"# r3d\"], bins=r3dbins, density=True)\n",
    "\t\tif j == n_bins - 1:\n",
    "\t\t\taxs[j,i].set_xlabel(r\"$r_\\mathrm{3D}$\")\n",
    "\t\telse:\n",
    "\t\t\taxs[j,i].set_xticks([])\n",
    "\t\tif i == 0:\n",
    "\t\t\taxs[j,i].set_ylabel(r\"$P(r_\\mathrm{3D})$\")\n",
    "\t\telse:\n",
    "\t\t\taxs[j,i].set_yticks([])\n",
    "#\t\taxs[j,i].set_ylim([0,0.2])\n",
    "\t\taxs[j,i].set_xlim([0,r3drange])\n",
    "\t\taxs[j,i].legend(title=f\"r={rbins[i:i+1].mean():.1f}, v={vbins[j:j+1].mean():.1f}\")\n",
    "\t\tprint(f\"{int(100*(i*n_bins+j)/n_bins**2)}%\", flush=True, end=\"\\r\")\n",
    "\n",
    "fig.tight_layout()\n",
    "fig.savefig(imagefolder+\"histograms_cluster.png\")\n",
    "plt.close()"
   ]
  },
  {
   "cell_type": "code",
   "execution_count": null,
   "id": "659306a8",
   "metadata": {},
   "outputs": [],
   "source": [
    "fig, axs = plt.subplots(n_bins, n_bins, figsize=(n_bins*4,)*2)\n",
    "\n",
    "vbins = np.linspace(3, -3, n_bins+1)\n",
    "rbins = np.linspace(0, 10, n_bins+1)\n",
    "r3dbins = np.geomspace(0.1, df[\"# r3d\"].max(), 100)\n",
    "\n",
    "for i in range(n_bins):\n",
    "\trmask = np.logical_and(df[\"rproj\"]>=rbins[i], df[\"rproj\"]<=rbins[i+1])\n",
    "\tfor j in range(n_bins):\n",
    "\t\tvmask = np.logical_and(df[\"vproj\"]>=vbins[j+1], df[\"vproj\"]<=vbins[j])\n",
    "\t\tsubset = df.loc[np.logical_and(rmask, vmask)]\n",
    "\t\taxs[j,i].hist(subset[\"# r3d\"], bins=r3dbins, density=True)\n",
    "\t\taxs[j,i].set_xscale(\"log\")\n",
    "\t\tif j == n_bins - 1:\n",
    "\t\t\taxs[j,i].set_xlabel(r\"$r_\\mathrm{3D}$\")\n",
    "\t\telse:\n",
    "\t\t\taxs[j,i].set_xticks([])\n",
    "\t\tif i == 0:\n",
    "\t\t\taxs[j,i].set_ylabel(r\"$P(r_\\mathrm{3D})$\")\n",
    "\t\telse:\n",
    "\t\t\taxs[j,i].set_yticks([])\n",
    "\t\taxs[j,i].set_ylim([0,0.2])\n",
    "\t\taxs[j,i].legend(title=f\"r={rbins[i:i+1].mean():.1f}, v={vbins[j:j+1].mean():.1f}\")\n",
    "\t\tprint(f\"{int(100*(i*n_bins+j)/n_bins**2)}%\", flush=True, end=\"\\r\")\n",
    "\n",
    "fig.tight_layout()\n",
    "fig.savefig(imagefolder+\"loghistograms.png\")\n",
    "plt.close()"
   ]
  },
  {
   "cell_type": "markdown",
   "id": "972c2e7f-eb77-455a-b9d2-83e26ce5fc81",
   "metadata": {},
   "source": [
    "### Velocity w.r.t. R3D"
   ]
  },
  {
   "cell_type": "code",
   "execution_count": null,
   "id": "e7a38dca",
   "metadata": {},
   "outputs": [],
   "source": [
    "df_slice = df.loc[df[\"# r3d\"]<=50]\n",
    "sb.histplot(x=df_slice[\"# r3d\"], y=np.abs(df_slice[\"vproj\"]), bins=101)"
   ]
  },
  {
   "cell_type": "code",
   "execution_count": null,
   "id": "d395c654",
   "metadata": {},
   "outputs": [],
   "source": []
  }
 ],
 "metadata": {
  "kernelspec": {
   "display_name": "env",
   "language": "python",
   "name": "python3"
  },
  "language_info": {
   "codemirror_mode": {
    "name": "ipython",
    "version": 3
   },
   "file_extension": ".py",
   "mimetype": "text/x-python",
   "name": "python",
   "nbconvert_exporter": "python",
   "pygments_lexer": "ipython3",
   "version": "3.12.3"
  }
 },
 "nbformat": 4,
 "nbformat_minor": 5
}
