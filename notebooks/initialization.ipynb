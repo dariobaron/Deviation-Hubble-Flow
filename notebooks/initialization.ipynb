{
 "cells": [
  {
   "cell_type": "code",
   "execution_count": null,
   "id": "1ab89c6c-f607-43de-9771-6222e764d30f",
   "metadata": {},
   "outputs": [],
   "source": [
    "import os\n",
    "os.chdir(\"..\")"
   ]
  },
  {
   "cell_type": "code",
   "execution_count": null,
   "id": "9c69d926-0416-4b3a-9d38-aaa365814ad3",
   "metadata": {},
   "outputs": [],
   "source": [
    "import pandas as pd\n",
    "import numpy as np\n",
    "import matplotlib.pyplot as plt\n",
    "from scipy.optimize import curve_fit\n",
    "import seaborn as sb\n",
    "import math"
   ]
  },
  {
   "cell_type": "code",
   "execution_count": null,
   "id": "2aa27a7d-1d64-41c8-8c1c-fc318eeb6153",
   "metadata": {},
   "outputs": [],
   "source": [
    "from project.kerneldensityestimation import KernelDensityEstimation as KDE\n",
    "from project.mixturedensity import MixtureDensity as MixDens\n",
    "from project.model import Model\n",
    "from project.dataholder import DataHolder\n",
    "from project.lossfunction import MaximizeLikelihood\n",
    "from project.optimizer import SPSA, SA\n",
    "from project.topographicmap import TopographicMap"
   ]
  },
  {
   "cell_type": "code",
   "execution_count": null,
   "id": "5560723a-0a20-499a-9c63-9569edc77279",
   "metadata": {},
   "outputs": [],
   "source": [
    "datafolder = \"data/\"\n",
    "imagefolder = \"figures/\""
   ]
  },
  {
   "cell_type": "code",
   "execution_count": null,
   "id": "77bce956-63e6-44fe-a471-662cd410ce6f",
   "metadata": {},
   "outputs": [],
   "source": [
    "df = pd.read_csv(datafolder+\"data.tsv\", delimiter=\"\\t\")"
   ]
  },
  {
   "cell_type": "code",
   "execution_count": null,
   "id": "fe568901-bac6-4a51-a6bb-718bc27ba6fd",
   "metadata": {},
   "outputs": [],
   "source": [
    "df"
   ]
  },
  {
   "cell_type": "code",
   "execution_count": null,
   "id": "019b41c4-e133-4ed7-8493-53fb5726feef",
   "metadata": {},
   "outputs": [],
   "source": [
    "n_bins = 2\n",
    "continue_flag = True\n",
    "while continue_flag:\n",
    "\tcounts,_,_ = np.histogram2d(df[\"rproj\"], df[\"vproj\"], bins=n_bins, range=[[0,10],[-3,3]])\n",
    "\tprint(f\"Using {n_bins} bins, with min {counts.min()}\", end=\"\\r\", flush=True)\n",
    "\tif counts.min() < 50:\n",
    "\t\tcontinue_flag = False\n",
    "\t\tn_bins -= 1\n",
    "\t\tcounts,_,_ = np.histogram2d(df[\"rproj\"], df[\"vproj\"], bins=n_bins, range=[[0,10],[-3,3]])\n",
    "\telse:\n",
    "\t\tn_bins += 1\n",
    "print(f\"Using {n_bins} bins, with min {counts.min()}\", flush=True)"
   ]
  },
  {
   "cell_type": "code",
   "execution_count": null,
   "id": "dfc148dd-702d-46bb-b8e2-dbf95568271e",
   "metadata": {},
   "outputs": [],
   "source": [
    "sb.histplot(data=df, x=\"rproj\", y=\"vproj\", bins=n_bins, cbar=True)"
   ]
  },
  {
   "cell_type": "code",
   "execution_count": null,
   "id": "dada8b9a-1487-4bd3-98f7-d40c5d94a36d",
   "metadata": {},
   "outputs": [],
   "source": [
    "vbins = np.linspace(3, -3, n_bins+1)\n",
    "rbins = np.linspace(0, 10, n_bins+1)\n",
    "binwidth = 5\n",
    "r3dbins = np.arange(0, df[\"# r3d\"].max()+binwidth, binwidth)\n",
    "xs = np.linspace(r3dbins.min(), r3dbins.max(), 101)"
   ]
  },
  {
   "cell_type": "code",
   "execution_count": null,
   "id": "bb57df8e-cd1e-4faa-8249-ef03f59ee09d",
   "metadata": {},
   "outputs": [],
   "source": [
    "n_kernels = 4\n",
    "tm = TopographicMap(0, 10, -3, 3, n_kernels, n_kernels)"
   ]
  },
  {
   "cell_type": "code",
   "execution_count": null,
   "id": "f6cda1a5-bd79-49b5-9124-470d65353556",
   "metadata": {},
   "outputs": [],
   "source": [
    "MixDens().nParams()"
   ]
  },
  {
   "cell_type": "markdown",
   "id": "c033c03a-cd95-41ad-992e-0f0713ac9c44",
   "metadata": {},
   "source": [
    "# With transformed parameters"
   ]
  },
  {
   "cell_type": "code",
   "execution_count": null,
   "id": "12b18251-93f9-49bd-9323-eafe03daa5d8",
   "metadata": {},
   "outputs": [],
   "source": [
    "model = Model(tm)\n",
    "def pymixture(xs, a1, a2, a3, scale1, m1, s1, m2, s2):\n",
    "\tmixture = model.evalOnThetas(np.array([a1, a2, a3, scale1, m1, s1, m2, s2]))\n",
    "\treturn mixture(xs)\n",
    "\n",
    "plt.plot(xs, pymixture(xs,1,1,1,2,60,3,90,3))"
   ]
  },
  {
   "cell_type": "code",
   "execution_count": null,
   "id": "ddfb8c32-21c3-48bb-863a-1649323e03e8",
   "metadata": {},
   "outputs": [],
   "source": [
    "fig, axs = plt.subplots(n_bins, n_bins, figsize=(n_bins*4,)*2)\n",
    "\n",
    "initial_params = []\n",
    "n_evals_transformed = []\n",
    "for i in range(n_bins):\n",
    "\trmask = np.logical_and(df[\"rproj\"]>=rbins[i], df[\"rproj\"]<=rbins[i+1])\n",
    "\tfor j in range(n_bins):\n",
    "\t\tvmask = np.logical_and(df[\"vproj\"]>=vbins[j+1], df[\"vproj\"]<=vbins[j])\n",
    "\t\tsubset = df.loc[np.logical_and(rmask, vmask)]\n",
    "\t\taxs[j,i].hist(subset[\"# r3d\"], bins=r3dbins, density=True, alpha=0.5, label=\"data\")\n",
    "\t\tvalues = subset[\"# r3d\"].to_numpy()\n",
    "\t\tkde = KDE(values, 3)\n",
    "\t\txs = np.linspace(r3dbins.min(), r3dbins.max(), 101)\n",
    "\t\taxs[j,i].plot(xs, kde(xs), linewidth=5, label=\"kde\")\n",
    "\t\ttry:\n",
    "\t\t\tparams,_,output_dict,_,_ = curve_fit(pymixture, xs, kde(xs), p0=[1,1,1,2,60,3,90,3], bounds=([-np.inf,-np.inf,-np.inf,-np.inf,0,-10,0,-10],[10,10,10,3,150,10,150,10]), full_output=True)\n",
    "\t\t\tn_evals_transformed.append(output_dict[\"nfev\"])\n",
    "\t\t\tmixture = model.evalOnThetas(params)\n",
    "\t\t\taxs[j,i].plot(xs, mixture(xs), linestyle=\"--\", linewidth=5, label=\"mixture\")\n",
    "\t\texcept:\n",
    "\t\t\tparams = [np.nan]*8\n",
    "\t\tinitial_params.append(params)\n",
    "\t\tif j == n_bins - 1:\n",
    "\t\t\taxs[j,i].set_xlabel(r\"$r_\\mathrm{3D}$\")\n",
    "\t\telse:\n",
    "\t\t\taxs[j,i].set_xticks([])\n",
    "\t\tif i == 0:\n",
    "\t\t\taxs[j,i].set_ylabel(r\"$P(r_\\mathrm{3D})$\")\n",
    "\t\telse:\n",
    "\t\t\taxs[j,i].set_yticks([])\n",
    "\t\taxs[j,i].set_ylim([0,0.05])\n",
    "\t\taxs[j,i].legend(title=f\"r={rbins[i:i+2].mean():.1f}, v={vbins[j:j+2].mean():.1f}\")\n",
    "\n",
    "fig.tight_layout()\n",
    "#fig.savefig(imagefolder+\"initialization-with-transformed.png\")\n",
    "\n",
    "initial_params_transformed = np.array(initial_params).T"
   ]
  },
  {
   "cell_type": "code",
   "execution_count": null,
   "id": "7f8e873c-d617-46c9-a38e-b267b63db210",
   "metadata": {},
   "outputs": [],
   "source": [
    "coeffs = initial_params_transformed[:3] / initial_params_transformed[:3].sum(axis=0)"
   ]
  },
  {
   "cell_type": "code",
   "execution_count": null,
   "id": "2286fbc4-61d7-43b3-b0bd-5f739402162f",
   "metadata": {},
   "outputs": [],
   "source": [
    "coeffs.shape"
   ]
  },
  {
   "cell_type": "code",
   "execution_count": null,
   "id": "b5b01260-b4f1-4c23-a540-b6ff0fe2165d",
   "metadata": {},
   "outputs": [],
   "source": [
    "fig, axs = plt.subplots(3, 3, figsize=(12,10))\n",
    "\n",
    "for i in range(3):\n",
    "\tfor j in range(3):\n",
    "\t\tif i == 0:\n",
    "\t\t\tplottingdata = coeffs[j].reshape((15,15)).T\n",
    "\t\t\tsb.heatmap(data=plottingdata, vmin=0, vmax=1, ax=axs[i,j])\n",
    "\t\t\tif j == 0:\n",
    "\t\t\t\taxs[i,j].set_title(\"coeff Chi\")\n",
    "\t\t\telse:\n",
    "\t\t\t\taxs[i,j].set_title(f\"coeff Gauss {j}\")\n",
    "\t\telif (i == 2) and (j == 0):\n",
    "\t\t\tplottingdata = np.exp(initial_params_transformed[3]).reshape((15,15)).T\n",
    "\t\t\tsb.heatmap(data=plottingdata, ax=axs[i,j])\n",
    "\t\t\taxs[i,j].set_title(\"scale Chi\")\n",
    "\t\telif (i == 1) and (j != 0):\n",
    "\t\t\tplottingdata = initial_params_transformed[2+2*j].reshape((15,15)).T\n",
    "\t\t\tsb.heatmap(data=plottingdata, vmin=0, vmax=150, ax=axs[i,j])\n",
    "\t\t\taxs[i,j].set_title(f\"mu Gauss {j}\")\n",
    "\t\telif (i == 2) and (j != 0):\n",
    "\t\t\tplottingdata = (initial_params_transformed[3+2*j]**2).reshape((15,15)).T\n",
    "\t\t\tsb.heatmap(data=plottingdata, ax=axs[i,j])\n",
    "\t\t\taxs[i,j].set_title(f\"sigma Gauss {j}\")"
   ]
  },
  {
   "cell_type": "markdown",
   "id": "d1379d66-5838-4b1b-9008-f22236405ff2",
   "metadata": {},
   "source": [
    "# With raw parameters"
   ]
  },
  {
   "cell_type": "code",
   "execution_count": null,
   "id": "87989047-30e3-4e89-9d98-12d4e06bf74a",
   "metadata": {},
   "outputs": [],
   "source": [
    "def pymixture(xs, a1, a2, a3, scale1, m1, s1, m2, s2):\n",
    "\tmixture = MixDens()\n",
    "\tparams = np.array([a1, a2, a3, scale1, m1, s1, m2, s2])\n",
    "\tmixture.setParams(params)\n",
    "\treturn mixture(xs)\n",
    "\t\n",
    "plt.plot(xs, pymixture(xs,1,1,1,10,60,10,90,10))"
   ]
  },
  {
   "cell_type": "code",
   "execution_count": null,
   "id": "b1e1ca7e-5fb2-4e12-a229-2b9a7203c117",
   "metadata": {},
   "outputs": [],
   "source": [
    "fig, axs = plt.subplots(n_bins, n_bins, figsize=(n_bins*4,)*2)\n",
    "\n",
    "initial_params = []\n",
    "n_evals_raw = []\n",
    "for i in range(n_bins):\n",
    "\trmask = np.logical_and(df[\"rproj\"]>=rbins[i], df[\"rproj\"]<=rbins[i+1])\n",
    "\tfor j in range(n_bins):\n",
    "\t\tvmask = np.logical_and(df[\"vproj\"]>=vbins[j+1], df[\"vproj\"]<=vbins[j])\n",
    "\t\tsubset = df.loc[np.logical_and(rmask, vmask)]\n",
    "\t\taxs[j,i].hist(subset[\"# r3d\"], bins=r3dbins, density=True, alpha=0.5, label=\"data\")\n",
    "\t\tvalues = subset[\"# r3d\"].to_numpy()\n",
    "\t\tkde = KDE(values, 3)\n",
    "\t\txs = np.linspace(r3dbins.min(), r3dbins.max(), 101)\n",
    "\t\taxs[j,i].plot(xs, kde(xs), linewidth=5, label=\"kde\")\n",
    "\t\ttry:\n",
    "\t\t\tparams,_,output_dict,_,_ = curve_fit(pymixture, xs, kde(xs), p0=[1,1,1,10,60,10,90,10], bounds=([0,0,0,0,0,0,0,0],[1000,1000,1000,30,150,100,150,100]), full_output=True)\n",
    "\t\t\t#params,_,output_dict,_,_ = curve_fit(pymixture, xs, kde(xs), p0=[1,1,1,10,60,10,90,10], bounds=([-np.inf,-np.inf,-np.inf,-np.inf,-np.inf,-np.inf,-np.inf,-np.inf,-np.inf],[np.inf,np.inf,np.inf,np.inf,np.inf,np.inf,np.inf,np.inf,np.inf]), full_output=True)\n",
    "\t\t\tn_evals_raw.append(output_dict[\"nfev\"])\n",
    "\t\t\tmixture = MixDens()\n",
    "\t\t\tmixture.setParams(params)\n",
    "\t\t\taxs[j,i].plot(xs, mixture(xs), linestyle=\"--\", linewidth=5, label=\"mixture\")\n",
    "\t\texcept:\n",
    "\t\t\tparams = [np.nan]*8\n",
    "\t\tinitial_params.append(params)\n",
    "\t\tif j == n_bins - 1:\n",
    "\t\t\taxs[j,i].set_xlabel(r\"$r_\\mathrm{3D}$\")\n",
    "\t\telse:\n",
    "\t\t\taxs[j,i].set_xticks([])\n",
    "\t\tif i == 0:\n",
    "\t\t\taxs[j,i].set_ylabel(r\"$P(r_\\mathrm{3D})$\")\n",
    "\t\telse:\n",
    "\t\t\taxs[j,i].set_yticks([])\n",
    "\t\taxs[j,i].set_ylim([0,0.05])\n",
    "\t\taxs[j,i].legend(title=f\"r={rbins[i:i+2].mean():.1f}, v={vbins[j:j+2].mean():.1f}\")\n",
    "\n",
    "fig.tight_layout()\n",
    "#fig.savefig(imagefolder+\"initialization-with-raw.png\")\n",
    "\n",
    "initial_params_raw = np.array(initial_params).T"
   ]
  },
  {
   "cell_type": "code",
   "execution_count": null,
   "id": "64451d72-6118-4981-a28f-e5fa3e3c6305",
   "metadata": {},
   "outputs": [],
   "source": [
    "coeffs = initial_params_raw[:3] / initial_params_raw[:3].sum(axis=0)"
   ]
  },
  {
   "cell_type": "code",
   "execution_count": null,
   "id": "e41f74e8-a5b1-4d54-a7ed-2cdcd6775428",
   "metadata": {},
   "outputs": [],
   "source": [
    "coeffs.shape"
   ]
  },
  {
   "cell_type": "code",
   "execution_count": null,
   "id": "2b1711f1-488e-42a9-9a1c-56056eac3122",
   "metadata": {},
   "outputs": [],
   "source": [
    "fig, axs = plt.subplots(3, 3, figsize=(12,10))\n",
    "\n",
    "for i in range(3):\n",
    "\tfor j in range(3):\n",
    "\t\tif i == 0:\n",
    "\t\t\tplottingdata = coeffs[j].reshape((15,15)).T\n",
    "\t\t\tsb.heatmap(data=plottingdata, vmin=0, vmax=1, ax=axs[i,j])\n",
    "\t\t\tif j == 0:\n",
    "\t\t\t\taxs[i,j].set_title(\"coeff Chi\")\n",
    "\t\t\telse:\n",
    "\t\t\t\taxs[i,j].set_title(f\"coeff Gauss {j}\")\n",
    "\t\telif (i == 2) and (j == 0):\n",
    "\t\t\tplottingdata = initial_params_raw[3].reshape((15,15)).T\n",
    "\t\t\tsb.heatmap(data=plottingdata, ax=axs[i,j])\n",
    "\t\t\taxs[i,j].set_title(\"scale Chi\")\n",
    "\t\telif (i == 1) and (j != 0):\n",
    "\t\t\tplottingdata = initial_params_raw[2+2*j].reshape((15,15)).T\n",
    "\t\t\tsb.heatmap(data=plottingdata, ax=axs[i,j])\n",
    "\t\t\taxs[i,j].set_title(f\"mu Gauss {j}\")\n",
    "\t\telif (i == 2) and (j != 0):\n",
    "\t\t\tplottingdata = (initial_params_raw[3+2*j]**2).reshape((15,15)).T\n",
    "\t\t\tsb.heatmap(data=plottingdata, ax=axs[i,j])\n",
    "\t\t\taxs[i,j].set_title(f\"sigma Gauss {j}\")"
   ]
  },
  {
   "cell_type": "code",
   "execution_count": null,
   "id": "891d5296-985a-4cc9-8847-e8ad03ee2868",
   "metadata": {},
   "outputs": [],
   "source": [
    "colors = {\"trans\":\"blue\", \"raw\":\"red\"}\n",
    "plt.plot(n_evals_transformed, color=colors[\"trans\"], label=\"transformed\", alpha=0.5)\n",
    "plt.plot(n_evals_raw, color=colors[\"raw\"], label=\"raw\", alpha=0.5)\n",
    "plt.axhline(np.mean(n_evals_transformed), color=colors[\"trans\"], linestyle=\":\")\n",
    "plt.axhline(np.mean(n_evals_raw), color=colors[\"raw\"], linestyle=\":\")\n",
    "plt.plot([], [], linestyle=\":\", color=\"grey\", label=\"mean\")\n",
    "plt.legend()\n",
    "plt.ylim(bottom=0)"
   ]
  },
  {
   "cell_type": "code",
   "execution_count": null,
   "id": "eb8b1bde-4d13-4fa4-80be-7bf2bb0875b8",
   "metadata": {},
   "outputs": [],
   "source": []
  }
 ],
 "metadata": {
  "kernelspec": {
   "display_name": "Python 3 (ipykernel)",
   "language": "python",
   "name": "python3"
  },
  "language_info": {
   "codemirror_mode": {
    "name": "ipython",
    "version": 3
   },
   "file_extension": ".py",
   "mimetype": "text/x-python",
   "name": "python",
   "nbconvert_exporter": "python",
   "pygments_lexer": "ipython3",
   "version": "3.12.3"
  }
 },
 "nbformat": 4,
 "nbformat_minor": 5
}
