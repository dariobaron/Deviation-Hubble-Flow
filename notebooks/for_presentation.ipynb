{
 "cells": [
  {
   "cell_type": "code",
   "execution_count": null,
   "id": "7703b0b2-c0ca-4389-92f2-88eb0d73f251",
   "metadata": {},
   "outputs": [],
   "source": [
    "import os\n",
    "os.chdir(\"..\")"
   ]
  },
  {
   "cell_type": "code",
   "execution_count": null,
   "id": "974044b7-db46-48c9-a583-b0c951e63177",
   "metadata": {},
   "outputs": [],
   "source": [
    "import matplotlib.pyplot as plt\n",
    "import matplotlib as mpl\n",
    "import numpy as np\n",
    "from scipy.stats import multivariate_normal"
   ]
  },
  {
   "cell_type": "code",
   "execution_count": null,
   "id": "a01799c1-15e3-47d2-b8f2-691e15b4078d",
   "metadata": {},
   "outputs": [],
   "source": [
    "R = 0.8"
   ]
  },
  {
   "cell_type": "code",
   "execution_count": null,
   "id": "8d12b06f-f82d-4eb6-b9a7-7f7f289b5b3c",
   "metadata": {},
   "outputs": [],
   "source": [
    "values = np.linspace(0,1,256)\n",
    "X,Y = np.meshgrid(values,values)\n",
    "X,Y = X.flatten(), Y.flatten()"
   ]
  },
  {
   "cell_type": "code",
   "execution_count": null,
   "id": "e1e908f0-da80-4ce1-b121-643db94b145f",
   "metadata": {},
   "outputs": [],
   "source": [
    "colors = [(R,x,y) for x,y in zip(X,Y)]\n",
    "G = 255 * X\n",
    "B = 255 * Y"
   ]
  },
  {
   "cell_type": "code",
   "execution_count": null,
   "id": "08f4f49f-e9b6-457f-9a66-9557905f6f08",
   "metadata": {},
   "outputs": [],
   "source": [
    "plt.scatter(G, B, c=colors, s=1)\n",
    "plt.title(f\"R = {int(R*255)}\")\n",
    "plt.xlabel(\"G\")\n",
    "plt.ylabel(\"B\")\n",
    "plt.xticks(np.linspace(0,256,9))\n",
    "plt.yticks(np.linspace(0,256,9))\n",
    "ax = plt.gca()\n",
    "ax.set_box_aspect(1)\n",
    "plt.tight_layout()\n",
    "plt.savefig(\"rgb.png\")"
   ]
  },
  {
   "cell_type": "code",
   "execution_count": null,
   "id": "051fc341-dcd8-47ef-bb40-bb3e5776d73a",
   "metadata": {},
   "outputs": [],
   "source": [
    "values = np.linspace(0,1,17)\n",
    "X,Y = np.meshgrid(values,values)\n",
    "X,Y = X.flatten(), Y.flatten()"
   ]
  },
  {
   "cell_type": "code",
   "execution_count": null,
   "id": "3ed29731-7186-4ee9-ac6d-eff373b23281",
   "metadata": {},
   "outputs": [],
   "source": [
    "colors = [(R,x,y) for x,y in zip(X,Y)]\n",
    "G = 255 * X\n",
    "B = 255 * Y"
   ]
  },
  {
   "cell_type": "code",
   "execution_count": null,
   "id": "c51aa68f-c843-4699-947a-df5dac2cef51",
   "metadata": {},
   "outputs": [],
   "source": [
    "plt.scatter(G, B, c=colors)\n",
    "plt.title(f\"R = {int(R*255)}\")\n",
    "plt.xlabel(\"G\")\n",
    "plt.ylabel(\"B\")\n",
    "plt.xticks(np.linspace(0,256,9))\n",
    "plt.yticks(np.linspace(0,256,9))\n",
    "ax = plt.gca()\n",
    "ax.set_box_aspect(1)\n",
    "plt.tight_layout()\n",
    "plt.savefig(\"rgb-discretized.png\")"
   ]
  },
  {
   "cell_type": "code",
   "execution_count": null,
   "id": "05187dac-6905-4c32-bd96-cbb028d5597f",
   "metadata": {},
   "outputs": [],
   "source": [
    "values"
   ]
  },
  {
   "cell_type": "code",
   "execution_count": null,
   "id": "8db66cb9-3849-49ed-b7c4-cc66291fc6bc",
   "metadata": {},
   "outputs": [],
   "source": [
    "selected = [\n",
    "    [[0.0625,0.875], [0.4375,1]],\n",
    "    [[0.8125,0.875], [0.9375,0.5]],\n",
    "    [[1,0], [0.625,0.125]],\n",
    "    [[0.0625,0.0625], [0.1875,0.4375]]\n",
    "]\n",
    "highlighting = [\"cyan\", \"r\", \"b\", \"g\"]"
   ]
  },
  {
   "cell_type": "code",
   "execution_count": null,
   "id": "cad9271b-f941-4e31-8ae5-5460bacb9395",
   "metadata": {},
   "outputs": [],
   "source": [
    "plt.scatter(G, B, c=colors)\n",
    "plt.title(f\"R = {int(R*255)}\")\n",
    "plt.xlabel(\"G\")\n",
    "plt.ylabel(\"B\")\n",
    "plt.xticks(np.linspace(0,256,9))\n",
    "plt.yticks(np.linspace(0,256,9))\n",
    "ax = plt.gca()\n",
    "ax.set_box_aspect(1)\n",
    "\n",
    "for highlight,couple in zip(highlighting,selected):\n",
    "    for el in couple:\n",
    "        plt.scatter(el[0]*255, el[1]*255, s=200, facecolor=\"none\", edgecolor=highlight, linewidth=2)\n",
    "\n",
    "plt.tight_layout()\n",
    "plt.savefig(\"selected.png\")"
   ]
  },
  {
   "cell_type": "code",
   "execution_count": null,
   "id": "1872d7cd-08aa-421a-a165-06c94a75e5c3",
   "metadata": {},
   "outputs": [],
   "source": [
    "fig, axs = plt.subplots(len(selected), 2, figsize=(3,len(selected)*2))\n",
    "for i,couple in enumerate(selected):\n",
    "    for j,el in enumerate(couple):\n",
    "        axs[i,j].imshow([[[R,el[0],el[1]]]])\n",
    "for ax in axs.flatten():\n",
    "    ax.set_xticks([])\n",
    "    ax.set_yticks([])\n",
    "for i in range(len(selected)):\n",
    "    axs[i,0].spines[['top','bottom','left','right']].set_color(highlighting[i])\n",
    "    axs[i,0].spines[['top','bottom','left','right']].set_linewidth(3)\n",
    "    axs[i,1].spines[['top','bottom','left','right']].set_color(highlighting[i])\n",
    "    axs[i,1].spines[['top','bottom','left','right']].set_linewidth(3)\n",
    "fig.tight_layout()\n",
    "fig.savefig(\"comparison.png\")"
   ]
  },
  {
   "cell_type": "code",
   "execution_count": null,
   "id": "1ccfa9c5-c70d-4bd8-9ad1-20fc96566d41",
   "metadata": {},
   "outputs": [],
   "source": [
    "values = np.linspace(0,1,256)\n",
    "XX,YY = np.meshgrid(values,values)\n",
    "X,Y = XX.flatten(), YY.flatten()"
   ]
  },
  {
   "cell_type": "code",
   "execution_count": null,
   "id": "718cca43-d0ca-4cc6-9e53-d42c9d65990b",
   "metadata": {},
   "outputs": [],
   "source": [
    "colors = [(R,x,y) for x,y in zip(X,Y)]\n",
    "G = 255 * X\n",
    "B = 255 * Y"
   ]
  },
  {
   "cell_type": "code",
   "execution_count": null,
   "id": "c1a3f0af-13cd-44d1-b2a1-cbed456c06b6",
   "metadata": {},
   "outputs": [],
   "source": [
    "def clusters(x, y):\n",
    "    pos = np.dstack((x,y))\n",
    "    Z = multivariate_normal.pdf(pos, [0.3,0.75], [[0.04,0],[0,0.03]])\n",
    "    Z += multivariate_normal.pdf(pos, [0.1,0.1], [[0.02,0],[0,0.02]])\n",
    "    Z += multivariate_normal.pdf(pos, [1,0.9], [[0.02,0],[0,0.015]])\n",
    "    Z += multivariate_normal.pdf(pos, [1,0.2], [[0.01,0],[0,0.03]])\n",
    "    Z += multivariate_normal.pdf(pos, [0.55,0.1], [[0.01,0],[0,0.03]])\n",
    "    return Z"
   ]
  },
  {
   "cell_type": "code",
   "execution_count": null,
   "id": "d38be494-2e24-4ccf-9668-32d2a2d57e77",
   "metadata": {},
   "outputs": [],
   "source": [
    "plt.scatter(G, B, c=colors, s=1)\n",
    "plt.title(f\"R = {int(R*255)}\")\n",
    "plt.xlabel(\"G\")\n",
    "plt.ylabel(\"B\")\n",
    "plt.xticks(np.linspace(0,256,9))\n",
    "plt.yticks(np.linspace(0,256,9))\n",
    "ax = plt.gca()\n",
    "ax.set_box_aspect(1)\n",
    "\n",
    "plt.contour(XX*255, YY*255, clusters(XX,YY), levels=10, colors=\"k\")\n",
    "\n",
    "plt.tight_layout()\n",
    "plt.savefig(\"curved.png\")"
   ]
  },
  {
   "cell_type": "code",
   "execution_count": null,
   "id": "bb5f21c5-9e57-4c86-b762-67649516b36c",
   "metadata": {},
   "outputs": [],
   "source": []
  }
 ],
 "metadata": {
  "kernelspec": {
   "display_name": "Python 3 (ipykernel)",
   "language": "python",
   "name": "python3"
  },
  "language_info": {
   "codemirror_mode": {
    "name": "ipython",
    "version": 3
   },
   "file_extension": ".py",
   "mimetype": "text/x-python",
   "name": "python",
   "nbconvert_exporter": "python",
   "pygments_lexer": "ipython3",
   "version": "3.12.3"
  }
 },
 "nbformat": 4,
 "nbformat_minor": 5
}
