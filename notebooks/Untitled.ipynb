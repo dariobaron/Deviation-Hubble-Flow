{
 "cells": [
  {
   "cell_type": "code",
   "execution_count": null,
   "id": "7b70b13b-d67b-47d4-9e10-bb898dd2bc6d",
   "metadata": {},
   "outputs": [],
   "source": [
    "import os\n",
    "os.chdir(\"..\")"
   ]
  },
  {
   "cell_type": "code",
   "execution_count": null,
   "id": "8ee9e1a3-ad90-4110-96ba-4e8dd4fa6042",
   "metadata": {},
   "outputs": [],
   "source": [
    "import pandas as pd\n",
    "from matplotlib import pyplot as plt\n",
    "import seaborn as sb\n",
    "import numpy as np\n",
    "from matplotlib.patches import Rectangle"
   ]
  },
  {
   "cell_type": "code",
   "execution_count": null,
   "id": "8f16aa4d-c137-4882-a10f-060903b0348e",
   "metadata": {},
   "outputs": [],
   "source": [
    "datafolder = \"data/\"\n",
    "imagefolder = \"figures/\""
   ]
  },
  {
   "cell_type": "code",
   "execution_count": null,
   "id": "1ed2af9f-97d7-4380-988a-6aae20844d3d",
   "metadata": {},
   "outputs": [],
   "source": [
    "with open(datafolder+\"host_3892582.dat\") as infile:\n",
    "\twith open(datafolder+\"data.tsv\", \"w\") as outfile:\n",
    "\t\tfor line in infile:\n",
    "\t\t\twords = line.split()\n",
    "\t\t\tif words[0] == \"#\":\n",
    "\t\t\t\twords = words[1:]\n",
    "\t\t\t\twords[0] = \"# \" + words[0]\n",
    "\t\t\tnewline = \"\\t\".join(words) + \"\\n\"\n",
    "\t\t\toutfile.write(newline)"
   ]
  },
  {
   "cell_type": "code",
   "execution_count": null,
   "id": "42c03167-b342-49e5-9087-20e99fe081f6",
   "metadata": {},
   "outputs": [],
   "source": [
    "df = pd.read_csv(datafolder+\"data.tsv\", delimiter=\"\\t\")"
   ]
  },
  {
   "cell_type": "code",
   "execution_count": null,
   "id": "26a216b3-f1a8-4b58-b040-cdb831b6798d",
   "metadata": {},
   "outputs": [],
   "source": [
    "df"
   ]
  },
  {
   "cell_type": "code",
   "execution_count": null,
   "id": "93cf1ac1-192e-4ad8-9068-ee85e2305870",
   "metadata": {},
   "outputs": [],
   "source": [
    "fig, ax = plt.subplots()\n",
    "df[\"spin\"].hist(bins=np.arange(0.5,51), ax=ax)\n",
    "ax.set_title(\"Point of View\")\n",
    "ax.set_ylabel(\"Counts\")\n",
    "ax.set_xlabel(\"Direction\")\n",
    "ax.set_xlim(left=0)\n",
    "fig.tight_layout()\n",
    "fig.savefig(imagefolder+\"spins.png\")"
   ]
  },
  {
   "cell_type": "code",
   "execution_count": null,
   "id": "4b830c51-6f79-42de-9686-001e88760a40",
   "metadata": {},
   "outputs": [],
   "source": [
    "sb.scatterplot(data=df, x=\"rproj\", y=\"vproj\")"
   ]
  },
  {
   "cell_type": "code",
   "execution_count": null,
   "id": "03ebaa17-27da-4a36-82bd-fac116b60e7d",
   "metadata": {},
   "outputs": [],
   "source": [
    "all_colours = [\"Blue\",\"Red\",\"Green\",\"Orange\",\"Purple\",\"Cyan\"]"
   ]
  },
  {
   "cell_type": "code",
   "execution_count": null,
   "id": "da8470f7-b56c-4de6-8b7d-260773f55601",
   "metadata": {},
   "outputs": [],
   "source": [
    "fig, axs = plt.subplots(1, 2, figsize=(10,4))\n",
    "\n",
    "df[\"rproj\"].hist(bins=50, density=True, alpha=0.7, ax=axs[0])\n",
    "df[\"vproj\"].hist(bins=50, density=True, alpha=0.7, ax=axs[1])\n",
    "\n",
    "#axs[0].add_patch(Rectangle((0.5,-0.01), 1, 0.32, facecolor=\"none\", edgecolor=all_colours[0]))\n",
    "#axs[0].add_patch(Rectangle((3,-0.01), 1, 0.32, facecolor=\"none\", edgecolor=all_colours[1]))\n",
    "#axs[0].add_patch(Rectangle((7.5,-0.01), 1, 0.32, facecolor=\"none\", edgecolor=all_colours[2]))\n",
    "#axs[1].add_patch(Rectangle((-2.5,-0.01), 1, 0.32, facecolor=\"none\", edgecolor=all_colours[3]))\n",
    "#axs[1].add_patch(Rectangle((1.5,-0.01), 1, 0.32, facecolor=\"none\", edgecolor=all_colours[4]))\n",
    "#axs[1].add_patch(Rectangle((-0.5,-0.01), 1, 0.32, facecolor=\"none\", edgecolor=all_colours[5]))\n",
    "\n",
    "axs[0].plot([0,10],[0.02,0.18], linestyle=\"--\", color=\"k\")\n",
    "\n",
    "fig.suptitle(\"Marginal distributions conditioning variables\")\n",
    "axs[0].set_xlabel(r\"$r_\\mathrm{proj}$\")\n",
    "axs[1].set_xlabel(r\"$v_\\mathrm{proj}$\")\n",
    "axs[0].set_ylabel(r\"$P(r_\\mathrm{proj})$\")\n",
    "axs[1].set_ylabel(r\"$P(v_\\mathrm{proj})$\")\n",
    "for ax in axs:\n",
    "\tax.set_ylim(bottom=0)\n",
    "\tax.grid(False)\n",
    "fig.tight_layout()\n",
    "fig.savefig(imagefolder+\"marginals.png\")"
   ]
  },
  {
   "cell_type": "code",
   "execution_count": null,
   "id": "5939603d-156d-418e-9c3a-47cf34812d43",
   "metadata": {},
   "outputs": [],
   "source": [
    "fig, ax = plt.subplots()\n",
    "\n",
    "n_bins = 20\n",
    "sb.histplot(data=df, x=\"rproj\", y=\"vproj\", bins=n_bins)\n",
    "\n",
    "fig.tight_layout()\n",
    "fig.savefig(imagefolder+\"joint.png\")"
   ]
  },
  {
   "cell_type": "code",
   "execution_count": null,
   "id": "91a29fc8-f64f-46ef-b48a-9ce0a3025ae0",
   "metadata": {},
   "outputs": [],
   "source": [
    "vbins"
   ]
  },
  {
   "cell_type": "code",
   "execution_count": null,
   "id": "906dd8cd-dd2f-48da-a585-9925fb93bf1b",
   "metadata": {},
   "outputs": [],
   "source": [
    "fig, axs = plt.subplots(n_bins, n_bins, figsize=(n_bins*4,)*2)\n",
    "\n",
    "vbins = np.linspace(3, -3, n_bins+1)\n",
    "rbins = np.linspace(0, 10, n_bins+1)\n",
    "binwidth = 5\n",
    "r3dbins = np.arange(0, df[\"# r3d\"].max()+binwidth, binwidth)\n",
    "\n",
    "for i in range(n_bins):\n",
    "\trmask = np.logical_and(df[\"rproj\"]>=rbins[i], df[\"rproj\"]<=rbins[i+1])\n",
    "\tfor j in range(n_bins):\n",
    "\t\tvmask = np.logical_and(df[\"vproj\"]>=vbins[j+1], df[\"vproj\"]<=vbins[j])\n",
    "\t\tsubset = df.loc[np.logical_and(rmask, vmask)]\n",
    "\t\taxs[j,i].hist(subset[\"# r3d\"], bins=r3dbins, density=True)\n",
    "\t\tif j == n_bins - 1:\n",
    "\t\t\taxs[j,i].set_xlabel(r\"$r_\\mathrm{3D}$\")\n",
    "\t\telse:\n",
    "\t\t\taxs[j,i].set_xticks([])\n",
    "\t\tif i == 0:\n",
    "\t\t\taxs[j,i].set_ylabel(r\"$P(r_\\mathrm{3D})$\")\n",
    "\t\telse:\n",
    "\t\t\taxs[j,i].set_yticks([])\n",
    "\t\taxs[j,i].set_ylim([0,0.2])\n",
    "\t\taxs[j,i].legend(title=f\"r={rbins[i:i+1].mean():.1f}, v={vbins[j:j+1].mean():.1f}\")\n",
    "\n",
    "fig.tight_layout()\n",
    "fig.savefig(imagefolder+\"histograms.png\")\n",
    "plt.close()"
   ]
  },
  {
   "cell_type": "code",
   "execution_count": null,
   "id": "fc378a18-f99d-4010-9096-12ae931c4049",
   "metadata": {},
   "outputs": [],
   "source": [
    "fig, axs = plt.subplots(2, 3, figsize=(12,8), sharey=True)\n",
    "axs = axs.flatten()\n",
    "\n",
    "subset = df.loc[np.logical_and(df[\"rproj\"]>=0.5, df[\"rproj\"]<=1.5)]\n",
    "sb.histplot(data=subset, x=\"vproj\", y=\"# r3d\", bins=50, color=all_colours[0], ax=axs[0])\n",
    "\n",
    "subset = df.loc[np.logical_and(df[\"rproj\"]>=3, df[\"rproj\"]<=4)]\n",
    "sb.histplot(data=subset, x=\"vproj\", y=\"# r3d\", bins=50, color=all_colours[1], ax=axs[1])\n",
    "\n",
    "subset = df.loc[np.logical_and(df[\"rproj\"]>=7, df[\"rproj\"]<=9)]\n",
    "sb.histplot(data=subset, x=\"vproj\", y=\"# r3d\", bins=50, color=all_colours[2], ax=axs[2])\n",
    "\n",
    "subset = df.loc[np.logical_and(df[\"vproj\"]>=-2.5, df[\"vproj\"]<=-1.5)]\n",
    "sb.histplot(data=subset, x=\"rproj\", y=\"# r3d\", bins=50, color=all_colours[3], ax=axs[3])\n",
    "\n",
    "subset = df.loc[np.logical_and(df[\"vproj\"]>=1.5, df[\"vproj\"]<=2.5)]\n",
    "sb.histplot(data=subset, x=\"rproj\", y=\"# r3d\", bins=50, color=all_colours[4], ax=axs[4])\n",
    "\n",
    "subset = df.loc[np.logical_and(df[\"vproj\"]>=-0.5, df[\"vproj\"]<=0.5)]\n",
    "sb.histplot(data=subset, x=\"rproj\", y=\"# r3d\", bins=50, color=all_colours[5], ax=axs[5])\n",
    "\n",
    "fig.tight_layout()\n",
    "fig.savefig(imagefolder+\"joint.png\")"
   ]
  },
  {
   "cell_type": "code",
   "execution_count": null,
   "id": "972c2e7f-eb77-455a-b9d2-83e26ce5fc81",
   "metadata": {},
   "outputs": [],
   "source": []
  }
 ],
 "metadata": {
  "kernelspec": {
   "display_name": "Python 3 (ipykernel)",
   "language": "python",
   "name": "python3"
  },
  "language_info": {
   "codemirror_mode": {
    "name": "ipython",
    "version": 3
   },
   "file_extension": ".py",
   "mimetype": "text/x-python",
   "name": "python",
   "nbconvert_exporter": "python",
   "pygments_lexer": "ipython3",
   "version": "3.12.3"
  }
 },
 "nbformat": 4,
 "nbformat_minor": 5
}
