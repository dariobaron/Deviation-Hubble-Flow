{
 "cells": [
  {
   "cell_type": "code",
   "execution_count": null,
   "metadata": {},
   "outputs": [],
   "source": [
    "import numpy as np\n",
    "import matplotlib.pyplot as plt\n",
    "import pandas as pd"
   ]
  },
  {
   "cell_type": "code",
   "execution_count": null,
   "metadata": {},
   "outputs": [],
   "source": [
    "rng = np.random.default_rng(15461)"
   ]
  },
  {
   "cell_type": "code",
   "execution_count": null,
   "metadata": {},
   "outputs": [],
   "source": [
    "R = 5\n",
    "n_points = 1000000\n",
    "points = rng.normal(0, 1, (n_points, 3))\n",
    "points /= np.linalg.norm(points, axis=1)[:, None]\n",
    "points *= R"
   ]
  },
  {
   "cell_type": "code",
   "execution_count": null,
   "metadata": {},
   "outputs": [],
   "source": [
    "fig, axs = plt.subplots(1, 3, figsize=(12, 4))\n",
    "for i in range(3):\n",
    "\taxs[i].hist(points[:, i], bins=100, density=True)\n",
    "\taxs[i].set_title(f\"Axis {i}\")"
   ]
  },
  {
   "cell_type": "code",
   "execution_count": null,
   "metadata": {},
   "outputs": [],
   "source": [
    "from scipy.integrate import quad\n",
    "\n",
    "def f(x):\n",
    "\treturn 1 / R / np.sqrt(R**2 - x**2) * x\n",
    "\n",
    "quad(f, 0, R)"
   ]
  },
  {
   "cell_type": "code",
   "execution_count": null,
   "metadata": {},
   "outputs": [],
   "source": [
    "points"
   ]
  },
  {
   "cell_type": "code",
   "execution_count": null,
   "metadata": {},
   "outputs": [],
   "source": [
    "np.linalg.norm(points[:,:2], axis=1)"
   ]
  },
  {
   "cell_type": "code",
   "execution_count": null,
   "metadata": {},
   "outputs": [],
   "source": [
    "plt.hist(np.linalg.norm(points[:,:2], axis=1), bins=np.linspace(0, R, 51), density=True, label=\"Simulated\", alpha=0.5, edgecolor=\"k\")\n",
    "plt.xlabel(r'$r$')\n",
    "plt.ylabel(r'$P(r)$')\n",
    "xs = np.linspace(0, R, 1000)\n",
    "plt.plot(xs, 1/R/np.sqrt(R**2-xs**2)*xs, label=r\"$\\frac{r}{R_0\\sqrt{R_0^2-r^2}}$\")\n",
    "plt.legend(title=r\"$R_0=$\"+f\"{R}\")\n",
    "plt.yscale(\"log\")\n",
    "plt.savefig(\"/media/sf_VMSharedFolder/check.pdf\")\n",
    "plt.savefig(\"/media/sf_VMSharedFolder/check.png\")"
   ]
  },
  {
   "cell_type": "code",
   "execution_count": null,
   "metadata": {},
   "outputs": [],
   "source": [
    "plt.hist(np.acos(points[:,2]/R), bins=np.linspace(0, np.pi, 101), density=True)\n",
    "plt.xlabel('Polar angle')\n",
    "plt.ylabel('Probability density')\n",
    "xs = np.linspace(0, np.pi, 1000)\n",
    "plt.plot(xs, np.sin(xs)/2, label='sin(θ)')\n",
    "for x in np.acos(1 - 2*np.linspace(0, 1, 50)):\n",
    "\tplt.axvline(x)\n",
    "plt.legend()"
   ]
  },
  {
   "cell_type": "code",
   "execution_count": null,
   "metadata": {},
   "outputs": [],
   "source": [
    "plt.hist(np.arctan2(points[:,1], points[:,0]), bins=np.linspace(-np.pi, np.pi, 51), density=True)\n",
    "plt.xlabel('Azimuthal angle')\n",
    "plt.ylabel('Probability density')points[:,2]/R"
   ]
  },
  {
   "cell_type": "code",
   "execution_count": null,
   "metadata": {},
   "outputs": [],
   "source": [
    "from numpy import arange, pi, sin, cos, arccos\n",
    "\n",
    "n = 64\n",
    "if n >= 600000:\n",
    "  epsilon = 214\n",
    "elif n>= 400000:\n",
    "  epsilon = 75\n",
    "elif n>= 11000:\n",
    "  epsilon = 27\n",
    "elif n>= 890:\n",
    "  epsilon = 10\n",
    "elif n>= 177:\n",
    "  epsilon = 3.33\n",
    "elif n>= 24:\n",
    "  epsilon = 1.33\n",
    "else:\n",
    "  epsilon = 0.33\n",
    "\n",
    "goldenRatio = (1 + 5**0.5)/2\n",
    "i = arange(0, n) \n",
    "theta = 2 *pi * ((i / goldenRatio) % 1)\n",
    "phi = arccos(1 - 2*(i+epsilon)/(n-1+2*epsilon))"
   ]
  },
  {
   "cell_type": "code",
   "execution_count": null,
   "metadata": {},
   "outputs": [],
   "source": [
    "theta"
   ]
  },
  {
   "cell_type": "code",
   "execution_count": null,
   "metadata": {},
   "outputs": [],
   "source": [
    "phi"
   ]
  },
  {
   "cell_type": "code",
   "execution_count": null,
   "metadata": {},
   "outputs": [],
   "source": [
    "points = np.array([sin(phi)*cos(theta), sin(phi)*sin(theta), cos(phi)]).T"
   ]
  },
  {
   "cell_type": "code",
   "execution_count": null,
   "metadata": {},
   "outputs": [],
   "source": [
    "fig = plt.figure(figsize=(8, 8))\n",
    "ax = fig.add_subplot(111, projection='3d')\n",
    "ax.scatter(points[:, 0], points[:, 1], points[:, 2], s=50)\n",
    "ax.set_xlabel('X')\n",
    "ax.set_ylabel('Y')\n",
    "ax.set_zlabel('Z')\n",
    "ax.set_title('Almost-uniform grid on a Sphere')\n",
    "fig.tight_layout()\n"
   ]
  },
  {
   "cell_type": "code",
   "execution_count": null,
   "metadata": {},
   "outputs": [],
   "source": [
    "coordinates = pd.DataFrame({\"Azimuth[rad]\": theta, \"Polar[rad]\": phi})\n",
    "display(coordinates)\n",
    "coordinates.to_csv(\"/media/sf_VMSharedFolder/coordinates.csv\", index=False)"
   ]
  },
  {
   "cell_type": "code",
   "execution_count": null,
   "metadata": {},
   "outputs": [],
   "source": []
  }
 ],
 "metadata": {
  "kernelspec": {
   "display_name": "env",
   "language": "python",
   "name": "python3"
  },
  "language_info": {
   "codemirror_mode": {
    "name": "ipython",
    "version": 3
   },
   "file_extension": ".py",
   "mimetype": "text/x-python",
   "name": "python",
   "nbconvert_exporter": "python",
   "pygments_lexer": "ipython3",
   "version": "3.12.3"
  }
 },
 "nbformat": 4,
 "nbformat_minor": 2
}
